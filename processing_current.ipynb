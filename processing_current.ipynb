{
 "cells": [
  {
   "cell_type": "markdown",
   "metadata": {},
   "source": [
    "# 1. Introduction and Hypothesis \n",
    "\n",
    "Using long historical texts (i.e., novels) to learn data science for the humanities provided many insights throughout the semester. However, our group was quite interested by the social media data that we discussed towards the end of the semester because a lot of meaning can be derived from short texts (e.g., Tweets, posts, etc.). We were also interested by the dynamic nature of this data. In order to balance the ethical and processing concerns of social media data, we decided to look at Yelp restaurant reviews as a way to analyze \"medium length\" text data. We were also interested in Yelp reviews because they correspond directly to a number rating (1-5 stars) that the user writing the review determines. Because everyone has a subjective understanding of a star rating, we thought this could pose some interesting challenges when analyzing this data.\n",
    "\n",
    "**Research Question & Hypothesis**\n",
    "\n",
    "How accurately can various algorithms correctly classify star rating based on review text?\n",
    "What NLP method is most effective for identifying star numbers based on review text?\n",
    "- Tf-idf Lemma feature matrices?\n",
    "- Average review sentiment feature matrix?\n",
    "\n",
    "How accurately can topic modeling paired with various algorithms identify what type of restaurant a review is written about?\n",
    "- Restaurant vs other type of business?\n",
    "- Specific types of restaurants in a multiclass classification?\n",
    "- Specific types of restaurants in single item classification (Mexican or not)?\n",
    "\n",
    "Our hypothesis for the first two questions was that given the opinionated nature of reviews, both lemma feature matrices as well as sentiment score feature matrices would be able to classify reviews into star levels much better than baseline accuracy. We were less convinced that topic modelling would successfully reveal restaurant cuisines, because often reviews just say things like \"Great service, and the food was really tasty! We will be back soon.\" which does not include any information on the type of food served at the restaurant. We hypothesized that a binary cuisine classifier would perform much better than a multiclass cuisine question because the small number of cuisine-specific topics would be weighted heavily for the cuisine-specific reviews.\n",
    "\n",
    "***NOTE: Our results are presented throughout the body section, so our \"Results\" section is a shorter summary of our findings.***"
   ]
  },
  {
   "cell_type": "markdown",
   "metadata": {
    "tags": []
   },
   "source": [
    "# 2. Data and Methods \n",
    "\n",
    "Our data is sourced directly from [Yelp](yelp.com). The original dataset has 7 million customer reviews for restaurants and stores. Each row in the reviews dataset has:\n",
    "- review text\n",
    "- 1-5 star rating\n",
    "- 'useful 'cool' and 'funny' votes on the review\n",
    "- user, business, and review ids for joining among the user, business, and review tables they publish. We joined the review table with the businesses table for our attempt at classifying restaurants later in this notebook.\n",
    "\n",
    "The businesses dataset has:\n",
    "- Business name\n",
    "- Business ID\n",
    "- Business location information\n",
    "- Business hours\n",
    "- Business category list\n",
    "- Average Star Rating\n",
    "- Total Reviews\n",
    "\n",
    "Originally, we sourced 7 million reviews from Yelp which they make available in json format. Then we ran a .py script (submitted along with this project which we found in a github repository built to help process this Yelp data, and then slightly modified for our needs) to convert the json into a csv, because loading in a random subset of the json was taking excessively long in jupyter lab. Next, in a previous notebook (submitted along with this project) we randomly selected 14,997 (approx 15,000) reviews, and saved them into a separate file, called selected_yelp_reviews.csv.\n",
    "\n",
    "Our entire project relies on classification using different feature matrix methods. We use lemmatized tokens, sentiment scores, and topic models to answer different classification questions based on different subsets of the data."
   ]
  },
  {
   "cell_type": "code",
   "execution_count": 1,
   "metadata": {},
   "outputs": [],
   "source": [
    "import os\n",
    "import random\n",
    "import requests\n",
    "import spacy\n",
    "import string\n",
    "import math\n",
    "import pathlib\n",
    "import unicodedata\n",
    "import copy\n",
    "import re\n",
    "import warnings\n",
    "import pickle\n",
    "\n",
    "import numpy as np\n",
    "import pandas as pd\n",
    "import seaborn as sns\n",
    "\n",
    "from   glob import glob\n",
    "from   nltk import word_tokenize, sent_tokenize\n",
    "from   nltk.corpus import stopwords\n",
    "from   collections import Counter, defaultdict\n",
    "from   matplotlib import pyplot as plt\n",
    "\n",
    "from   sklearn.feature_extraction import DictVectorizer\n",
    "from   sklearn.feature_extraction.text import TfidfVectorizer\n",
    "from   sklearn.feature_extraction.text import CountVectorizer\n",
    "from   sklearn.feature_selection import SelectKBest, mutual_info_regression\n",
    "from   sklearn.linear_model import LinearRegression, LogisticRegression\n",
    "from   sklearn.model_selection import cross_val_score, train_test_split, cross_validate\n",
    "from   sklearn.preprocessing import StandardScaler\n",
    "from   sklearn.metrics import plot_confusion_matrix, ConfusionMatrixDisplay, precision_score, accuracy_score\n",
    "from   sklearn.cluster import KMeans, SpectralClustering, DBSCAN, OPTICS, AgglomerativeClustering\n",
    "from   sklearn.metrics.pairwise import cosine_distances, cosine_similarity\n",
    "from   sklearn.decomposition import TruncatedSVD\n",
    "from   sklearn.tree import DecisionTreeClassifier\n",
    "from   sklearn.ensemble import RandomForestClassifier\n",
    "from   sklearn.naive_bayes import MultinomialNB\n",
    "from   sklearn.decomposition import LatentDirichletAllocation\n",
    "from   sklearn.neighbors import KNeighborsClassifier\n",
    "from   sklearn.dummy import DummyClassifier"
   ]
  },
  {
   "cell_type": "code",
   "execution_count": 2,
   "metadata": {},
   "outputs": [
    {
     "data": {
      "text/html": [
       "<div>\n",
       "<style scoped>\n",
       "    .dataframe tbody tr th:only-of-type {\n",
       "        vertical-align: middle;\n",
       "    }\n",
       "\n",
       "    .dataframe tbody tr th {\n",
       "        vertical-align: top;\n",
       "    }\n",
       "\n",
       "    .dataframe thead th {\n",
       "        text-align: right;\n",
       "    }\n",
       "</style>\n",
       "<table border=\"1\" class=\"dataframe\">\n",
       "  <thead>\n",
       "    <tr style=\"text-align: right;\">\n",
       "      <th></th>\n",
       "      <th>user_id</th>\n",
       "      <th>useful</th>\n",
       "      <th>review_id</th>\n",
       "      <th>cool</th>\n",
       "      <th>stars</th>\n",
       "      <th>text</th>\n",
       "      <th>date</th>\n",
       "      <th>funny</th>\n",
       "      <th>business_id</th>\n",
       "    </tr>\n",
       "  </thead>\n",
       "  <tbody>\n",
       "    <tr>\n",
       "      <th>0</th>\n",
       "      <td>M3xME4pvnOYi06q2upH3vw</td>\n",
       "      <td>0</td>\n",
       "      <td>pEwlvpFtLSoYok1i9F0Tew</td>\n",
       "      <td>0</td>\n",
       "      <td>4.0</td>\n",
       "      <td>It's a nice place. Really nice! Great service ...</td>\n",
       "      <td>2012-07-16 01:31:26</td>\n",
       "      <td>0</td>\n",
       "      <td>M0c99tzIJPIbrY_RAO7KSQ</td>\n",
       "    </tr>\n",
       "    <tr>\n",
       "      <th>1</th>\n",
       "      <td>VbGus5yJEza4G0blt2sPqA</td>\n",
       "      <td>0</td>\n",
       "      <td>oSWY_2X9CApWlJrN0TsA6Q</td>\n",
       "      <td>0</td>\n",
       "      <td>5.0</td>\n",
       "      <td>My go to place in IN when visiting family!  Da...</td>\n",
       "      <td>2016-06-11 20:19:32</td>\n",
       "      <td>0</td>\n",
       "      <td>Q8q-1MZTYPL9ZBmAeoMKVg</td>\n",
       "    </tr>\n",
       "    <tr>\n",
       "      <th>2</th>\n",
       "      <td>n0zPBuXxQuxHOQmA4ehcvQ</td>\n",
       "      <td>0</td>\n",
       "      <td>iOQ_bnKI5HfPbH43DMAw6w</td>\n",
       "      <td>0</td>\n",
       "      <td>3.0</td>\n",
       "      <td>This place is good. For the lofty prices the p...</td>\n",
       "      <td>2013-01-27 19:22:26</td>\n",
       "      <td>0</td>\n",
       "      <td>YtSqYv1Q_pOltsVPSx54SA</td>\n",
       "    </tr>\n",
       "    <tr>\n",
       "      <th>3</th>\n",
       "      <td>J2nuqbMp9ooEa_0QD9kjvg</td>\n",
       "      <td>0</td>\n",
       "      <td>qO--SRLwiNfGGKAPeSGHpA</td>\n",
       "      <td>0</td>\n",
       "      <td>5.0</td>\n",
       "      <td>For a $16 haircut, I was expecting an OK-looki...</td>\n",
       "      <td>2011-08-26 01:37:56</td>\n",
       "      <td>0</td>\n",
       "      <td>eaV07HGOcyb27XobHVl8LQ</td>\n",
       "    </tr>\n",
       "    <tr>\n",
       "      <th>4</th>\n",
       "      <td>X23bt-XPgRC5yqtrSgp9Jg</td>\n",
       "      <td>3</td>\n",
       "      <td>i7CqIbvjgr6M8qGuyOV98g</td>\n",
       "      <td>1</td>\n",
       "      <td>1.0</td>\n",
       "      <td>I wish I had read the other reviews before set...</td>\n",
       "      <td>2012-03-01 20:14:15</td>\n",
       "      <td>0</td>\n",
       "      <td>-pgTW7620zWdXMOczX0www</td>\n",
       "    </tr>\n",
       "  </tbody>\n",
       "</table>\n",
       "</div>"
      ],
      "text/plain": [
       "                  user_id  useful               review_id  cool  stars  \\\n",
       "0  M3xME4pvnOYi06q2upH3vw       0  pEwlvpFtLSoYok1i9F0Tew     0    4.0   \n",
       "1  VbGus5yJEza4G0blt2sPqA       0  oSWY_2X9CApWlJrN0TsA6Q     0    5.0   \n",
       "2  n0zPBuXxQuxHOQmA4ehcvQ       0  iOQ_bnKI5HfPbH43DMAw6w     0    3.0   \n",
       "3  J2nuqbMp9ooEa_0QD9kjvg       0  qO--SRLwiNfGGKAPeSGHpA     0    5.0   \n",
       "4  X23bt-XPgRC5yqtrSgp9Jg       3  i7CqIbvjgr6M8qGuyOV98g     1    1.0   \n",
       "\n",
       "                                                text                 date  \\\n",
       "0  It's a nice place. Really nice! Great service ...  2012-07-16 01:31:26   \n",
       "1  My go to place in IN when visiting family!  Da...  2016-06-11 20:19:32   \n",
       "2  This place is good. For the lofty prices the p...  2013-01-27 19:22:26   \n",
       "3  For a $16 haircut, I was expecting an OK-looki...  2011-08-26 01:37:56   \n",
       "4  I wish I had read the other reviews before set...  2012-03-01 20:14:15   \n",
       "\n",
       "   funny             business_id  \n",
       "0      0  M0c99tzIJPIbrY_RAO7KSQ  \n",
       "1      0  Q8q-1MZTYPL9ZBmAeoMKVg  \n",
       "2      0  YtSqYv1Q_pOltsVPSx54SA  \n",
       "3      0  eaV07HGOcyb27XobHVl8LQ  \n",
       "4      0  -pgTW7620zWdXMOczX0www  "
      ]
     },
     "execution_count": 2,
     "metadata": {},
     "output_type": "execute_result"
    }
   ],
   "source": [
    "reviews = pd.read_csv('selected_yelp_reviews.csv')\n",
    "reviews.head()"
   ]
  },
  {
   "cell_type": "code",
   "execution_count": 3,
   "metadata": {},
   "outputs": [
    {
     "data": {
      "image/png": "[encoded data removed]",
      "text/plain": [
       "<Figure size 432x288 with 1 Axes>"
      ]
     },
     "metadata": {
      "needs_background": "light"
     },
     "output_type": "display_data"
    }
   ],
   "source": [
    "# graph initial rating distribution\n",
    "plt.hist(reviews['stars'], bins=[1,2,3,4,5,6], align='left', rwidth=0.75)\n",
    "plt.xlabel('Stars')\n",
    "plt.ylabel('# of Reviews')\n",
    "plt.title(\"Distribution of Review Ratings\")\n",
    "plt.show()"
   ]
  },
  {
   "cell_type": "markdown",
   "metadata": {},
   "source": [
    "### As we can see here, the target variable (star rating) has very imbalanced classes, ranging from 1,000 2-star reviews to 7,000 5-star reviews. This may result in a bias toward 5-star reviews and against 2-star reviews in our classifiers."
   ]
  },
  {
   "cell_type": "code",
   "execution_count": 4,
   "metadata": {},
   "outputs": [],
   "source": [
    "# load business dataset\n",
    "businesses = pd.read_json(\"yelp_academic_dataset_business.json\", lines=True)\n",
    "\n",
    "#combine with reviews metadata\n",
    "combined = reviews.merge(businesses, on='business_id', how='left')\n",
    "\n",
    "# drop row with no categories\n",
    "combined = combined.drop(9777)"
   ]
  },
  {
   "cell_type": "code",
   "execution_count": 5,
   "metadata": {
    "tags": []
   },
   "outputs": [
    {
     "data": {
      "text/html": [
       "<div>\n",
       "<style scoped>\n",
       "    .dataframe tbody tr th:only-of-type {\n",
       "        vertical-align: middle;\n",
       "    }\n",
       "\n",
       "    .dataframe tbody tr th {\n",
       "        vertical-align: top;\n",
       "    }\n",
       "\n",
       "    .dataframe thead th {\n",
       "        text-align: right;\n",
       "    }\n",
       "</style>\n",
       "<table border=\"1\" class=\"dataframe\">\n",
       "  <thead>\n",
       "    <tr style=\"text-align: right;\">\n",
       "      <th></th>\n",
       "      <th>user_id</th>\n",
       "      <th>useful</th>\n",
       "      <th>review_id</th>\n",
       "      <th>cool</th>\n",
       "      <th>stars_x</th>\n",
       "      <th>text</th>\n",
       "      <th>date</th>\n",
       "      <th>funny</th>\n",
       "      <th>business_id</th>\n",
       "      <th>name</th>\n",
       "      <th>...</th>\n",
       "      <th>state</th>\n",
       "      <th>postal_code</th>\n",
       "      <th>latitude</th>\n",
       "      <th>longitude</th>\n",
       "      <th>stars_y</th>\n",
       "      <th>review_count</th>\n",
       "      <th>is_open</th>\n",
       "      <th>attributes</th>\n",
       "      <th>categories</th>\n",
       "      <th>hours</th>\n",
       "    </tr>\n",
       "  </thead>\n",
       "  <tbody>\n",
       "    <tr>\n",
       "      <th>0</th>\n",
       "      <td>M3xME4pvnOYi06q2upH3vw</td>\n",
       "      <td>0</td>\n",
       "      <td>pEwlvpFtLSoYok1i9F0Tew</td>\n",
       "      <td>0</td>\n",
       "      <td>4.0</td>\n",
       "      <td>It's a nice place. Really nice! Great service ...</td>\n",
       "      <td>2012-07-16 01:31:26</td>\n",
       "      <td>0</td>\n",
       "      <td>M0c99tzIJPIbrY_RAO7KSQ</td>\n",
       "      <td>Hyatt Regency St. Louis at the Arch</td>\n",
       "      <td>...</td>\n",
       "      <td>MO</td>\n",
       "      <td>63102</td>\n",
       "      <td>38.626221</td>\n",
       "      <td>-90.187770</td>\n",
       "      <td>3.5</td>\n",
       "      <td>430</td>\n",
       "      <td>1</td>\n",
       "      <td>{'WiFi': 'u'free'', 'BusinessAcceptsCreditCard...</td>\n",
       "      <td>Event Planning &amp; Services, Venues &amp; Event Spac...</td>\n",
       "      <td>{'Monday': '0:0-0:0', 'Tuesday': '0:0-0:0', 'W...</td>\n",
       "    </tr>\n",
       "    <tr>\n",
       "      <th>1</th>\n",
       "      <td>VbGus5yJEza4G0blt2sPqA</td>\n",
       "      <td>0</td>\n",
       "      <td>oSWY_2X9CApWlJrN0TsA6Q</td>\n",
       "      <td>0</td>\n",
       "      <td>5.0</td>\n",
       "      <td>My go to place in IN when visiting family!  Da...</td>\n",
       "      <td>2016-06-11 20:19:32</td>\n",
       "      <td>0</td>\n",
       "      <td>Q8q-1MZTYPL9ZBmAeoMKVg</td>\n",
       "      <td>Lilly Nails &amp; Spa</td>\n",
       "      <td>...</td>\n",
       "      <td>IN</td>\n",
       "      <td>46038</td>\n",
       "      <td>39.956701</td>\n",
       "      <td>-86.023032</td>\n",
       "      <td>4.0</td>\n",
       "      <td>68</td>\n",
       "      <td>1</td>\n",
       "      <td>{'BusinessAcceptsCreditCards': 'True', 'Restau...</td>\n",
       "      <td>Beauty &amp; Spas, Nail Salons, Day Spas</td>\n",
       "      <td>{'Monday': '10:0-19:30', 'Tuesday': '10:0-19:3...</td>\n",
       "    </tr>\n",
       "    <tr>\n",
       "      <th>2</th>\n",
       "      <td>n0zPBuXxQuxHOQmA4ehcvQ</td>\n",
       "      <td>0</td>\n",
       "      <td>iOQ_bnKI5HfPbH43DMAw6w</td>\n",
       "      <td>0</td>\n",
       "      <td>3.0</td>\n",
       "      <td>This place is good. For the lofty prices the p...</td>\n",
       "      <td>2013-01-27 19:22:26</td>\n",
       "      <td>0</td>\n",
       "      <td>YtSqYv1Q_pOltsVPSx54SA</td>\n",
       "      <td>Rittenhouse Grill</td>\n",
       "      <td>...</td>\n",
       "      <td>PA</td>\n",
       "      <td>19103</td>\n",
       "      <td>39.948949</td>\n",
       "      <td>-75.169532</td>\n",
       "      <td>3.5</td>\n",
       "      <td>290</td>\n",
       "      <td>1</td>\n",
       "      <td>{'RestaurantsAttire': 'u'dressy'', 'Restaurant...</td>\n",
       "      <td>Wine Bars, Restaurants, Nightlife, Steakhouses...</td>\n",
       "      <td>{'Wednesday': '16:30-22:0', 'Thursday': '16:30...</td>\n",
       "    </tr>\n",
       "    <tr>\n",
       "      <th>3</th>\n",
       "      <td>J2nuqbMp9ooEa_0QD9kjvg</td>\n",
       "      <td>0</td>\n",
       "      <td>qO--SRLwiNfGGKAPeSGHpA</td>\n",
       "      <td>0</td>\n",
       "      <td>5.0</td>\n",
       "      <td>For a $16 haircut, I was expecting an OK-looki...</td>\n",
       "      <td>2011-08-26 01:37:56</td>\n",
       "      <td>0</td>\n",
       "      <td>eaV07HGOcyb27XobHVl8LQ</td>\n",
       "      <td>Jean Madeline Aveda Institute Salon</td>\n",
       "      <td>...</td>\n",
       "      <td>PA</td>\n",
       "      <td>19104</td>\n",
       "      <td>39.955982</td>\n",
       "      <td>-75.201914</td>\n",
       "      <td>3.5</td>\n",
       "      <td>190</td>\n",
       "      <td>1</td>\n",
       "      <td>{'GoodForKids': 'True', 'ByAppointmentOnly': '...</td>\n",
       "      <td>Specialty Schools, Nail Salons, Hair Salons, C...</td>\n",
       "      <td>{'Tuesday': '16:45-21:0', 'Wednesday': '16:45-...</td>\n",
       "    </tr>\n",
       "    <tr>\n",
       "      <th>4</th>\n",
       "      <td>X23bt-XPgRC5yqtrSgp9Jg</td>\n",
       "      <td>3</td>\n",
       "      <td>i7CqIbvjgr6M8qGuyOV98g</td>\n",
       "      <td>1</td>\n",
       "      <td>1.0</td>\n",
       "      <td>I wish I had read the other reviews before set...</td>\n",
       "      <td>2012-03-01 20:14:15</td>\n",
       "      <td>0</td>\n",
       "      <td>-pgTW7620zWdXMOczX0www</td>\n",
       "      <td>Arizona Stagecoach</td>\n",
       "      <td>...</td>\n",
       "      <td>AZ</td>\n",
       "      <td>85756</td>\n",
       "      <td>32.087229</td>\n",
       "      <td>-110.923462</td>\n",
       "      <td>2.5</td>\n",
       "      <td>41</td>\n",
       "      <td>1</td>\n",
       "      <td>None</td>\n",
       "      <td>Tours, Travel Services, Airport Shuttles, Tran...</td>\n",
       "      <td>{'Monday': '0:0-0:0', 'Tuesday': '0:0-0:0', 'W...</td>\n",
       "    </tr>\n",
       "  </tbody>\n",
       "</table>\n",
       "<p>5 rows × 22 columns</p>\n",
       "</div>"
      ],
      "text/plain": [
       "                  user_id  useful               review_id  cool  stars_x  \\\n",
       "0  M3xME4pvnOYi06q2upH3vw       0  pEwlvpFtLSoYok1i9F0Tew     0      4.0   \n",
       "1  VbGus5yJEza4G0blt2sPqA       0  oSWY_2X9CApWlJrN0TsA6Q     0      5.0   \n",
       "2  n0zPBuXxQuxHOQmA4ehcvQ       0  iOQ_bnKI5HfPbH43DMAw6w     0      3.0   \n",
       "3  J2nuqbMp9ooEa_0QD9kjvg       0  qO--SRLwiNfGGKAPeSGHpA     0      5.0   \n",
       "4  X23bt-XPgRC5yqtrSgp9Jg       3  i7CqIbvjgr6M8qGuyOV98g     1      1.0   \n",
       "\n",
       "                                                text                 date  \\\n",
       "0  It's a nice place. Really nice! Great service ...  2012-07-16 01:31:26   \n",
       "1  My go to place in IN when visiting family!  Da...  2016-06-11 20:19:32   \n",
       "2  This place is good. For the lofty prices the p...  2013-01-27 19:22:26   \n",
       "3  For a $16 haircut, I was expecting an OK-looki...  2011-08-26 01:37:56   \n",
       "4  I wish I had read the other reviews before set...  2012-03-01 20:14:15   \n",
       "\n",
       "   funny             business_id                                 name  ...  \\\n",
       "0      0  M0c99tzIJPIbrY_RAO7KSQ  Hyatt Regency St. Louis at the Arch  ...   \n",
       "1      0  Q8q-1MZTYPL9ZBmAeoMKVg                    Lilly Nails & Spa  ...   \n",
       "2      0  YtSqYv1Q_pOltsVPSx54SA                    Rittenhouse Grill  ...   \n",
       "3      0  eaV07HGOcyb27XobHVl8LQ  Jean Madeline Aveda Institute Salon  ...   \n",
       "4      0  -pgTW7620zWdXMOczX0www                   Arizona Stagecoach  ...   \n",
       "\n",
       "  state postal_code   latitude   longitude  stars_y  review_count  is_open  \\\n",
       "0    MO       63102  38.626221  -90.187770      3.5           430        1   \n",
       "1    IN       46038  39.956701  -86.023032      4.0            68        1   \n",
       "2    PA       19103  39.948949  -75.169532      3.5           290        1   \n",
       "3    PA       19104  39.955982  -75.201914      3.5           190        1   \n",
       "4    AZ       85756  32.087229 -110.923462      2.5            41        1   \n",
       "\n",
       "                                          attributes  \\\n",
       "0  {'WiFi': 'u'free'', 'BusinessAcceptsCreditCard...   \n",
       "1  {'BusinessAcceptsCreditCards': 'True', 'Restau...   \n",
       "2  {'RestaurantsAttire': 'u'dressy'', 'Restaurant...   \n",
       "3  {'GoodForKids': 'True', 'ByAppointmentOnly': '...   \n",
       "4                                               None   \n",
       "\n",
       "                                          categories  \\\n",
       "0  Event Planning & Services, Venues & Event Spac...   \n",
       "1               Beauty & Spas, Nail Salons, Day Spas   \n",
       "2  Wine Bars, Restaurants, Nightlife, Steakhouses...   \n",
       "3  Specialty Schools, Nail Salons, Hair Salons, C...   \n",
       "4  Tours, Travel Services, Airport Shuttles, Tran...   \n",
       "\n",
       "                                               hours  \n",
       "0  {'Monday': '0:0-0:0', 'Tuesday': '0:0-0:0', 'W...  \n",
       "1  {'Monday': '10:0-19:30', 'Tuesday': '10:0-19:3...  \n",
       "2  {'Wednesday': '16:30-22:0', 'Thursday': '16:30...  \n",
       "3  {'Tuesday': '16:45-21:0', 'Wednesday': '16:45-...  \n",
       "4  {'Monday': '0:0-0:0', 'Tuesday': '0:0-0:0', 'W...  \n",
       "\n",
       "[5 rows x 22 columns]"
      ]
     },
     "execution_count": 5,
     "metadata": {},
     "output_type": "execute_result"
    }
   ],
   "source": [
    "combined.head()"
   ]
  },
  {
   "cell_type": "markdown",
   "metadata": {},
   "source": [
    "## Lemmatized TFIDF Section\n",
    "\n",
    "Here, we used lemmatized reviews and created a tf-idf feature matrix to try and classify review star-ratings based on review text. We used a min_df of 0.05 so that we would be focusing on lemmas used in enough reviews that their presence would be informative. We then scaled the feature matrix, and compared scores from five classifiers, including a dummy classifier to serve as baseline accuracy. "
   ]
  },
  {
   "cell_type": "code",
   "execution_count": 6,
   "metadata": {},
   "outputs": [],
   "source": [
    "## Teo's lemmatizer function from ps07\n",
    "nlp = spacy.load(\"en_core_web_sm\")\n",
    "\n",
    "def lemmatizer(s, nlp=nlp):\n",
    "    \n",
    "    lemmatizer = nlp.get_pipe(\"lemmatizer\")\n",
    "    doc = nlp(s)\n",
    "    \n",
    "    return [token.lemma_ for token in doc if token.pos_ != \"PUNCT\" and token.pos_ != \"SPACE\"]"
   ]
  },
  {
   "cell_type": "code",
   "execution_count": 7,
   "metadata": {},
   "outputs": [
    {
     "name": "stdout",
     "output_type": "stream",
     "text": [
      "Wall time: 9min 20s\n"
     ]
    }
   ],
   "source": [
    "## We saved the output of this vectorizer to save time in future runs of the notebook.\n",
    "\n",
    "##%%time\n",
    "##\n",
    "### making tf-idf vectorizer with lemmas\n",
    "##lemma_vectorizer = TfidfVectorizer(\n",
    "##    input = 'content',\n",
    "##    encoding = 'utf-8',\n",
    "##    strip_accents = 'unicode',\n",
    "##    lowercase = True,\n",
    "##    tokenizer = lemmatizer,\n",
    "##    min_df = 0.05,\n",
    "##    use_idf=True\n",
    "##)\n",
    "##\n",
    "##raw_lemma = lemma_vectorizer.fit_transform(reviews['text'])\n"
   ]
  },
  {
   "cell_type": "code",
   "execution_count": 13,
   "metadata": {},
   "outputs": [],
   "source": [
    "##with open('X_raw_lemma.pickle', 'wb') as f:\n",
    "##    pickle.dump(raw_lemma, f)"
   ]
  },
  {
   "cell_type": "code",
   "execution_count": 16,
   "metadata": {},
   "outputs": [],
   "source": [
    "raw_lemma = pd.read_pickle(r'X_raw_lemma.pickle')"
   ]
  },
  {
   "cell_type": "code",
   "execution_count": 17,
   "metadata": {},
   "outputs": [
    {
     "name": "stdout",
     "output_type": "stream",
     "text": [
      "Shape of feature matrix:  (14997, 237)\n"
     ]
    }
   ],
   "source": [
    "# scaling the vector\n",
    "scaler = StandardScaler()\n",
    "scaled_feat_matrix_lemma = scaler.fit_transform(raw_lemma.toarray())\n",
    "print('Shape of feature matrix: ', scaled_feat_matrix_lemma.shape)\n",
    "#making gold labels\n",
    "y_stars = reviews['stars']"
   ]
  },
  {
   "cell_type": "code",
   "execution_count": 18,
   "metadata": {},
   "outputs": [],
   "source": [
    "# function from mp02 problem set\n",
    "def compare_scores(scores_dict):\n",
    "    '''\n",
    "    Takes a dictionary of cross_validate scores.\n",
    "    Returns a color-coded Pandas dataframe that summarizes those scores.\n",
    "    '''\n",
    "    import pandas as pd\n",
    "    df = pd.DataFrame(scores_dict).T.applymap(np.mean).style.background_gradient(cmap='RdYlGn')\n",
    "    return df"
   ]
  },
  {
   "cell_type": "code",
   "execution_count": 19,
   "metadata": {
    "tags": []
   },
   "outputs": [
    {
     "data": {
      "text/html": [
       "<style type=\"text/css\">\n",
       "#T_163a4_row0_col0, #T_163a4_row0_col1, #T_163a4_row0_col2, #T_163a4_row0_col3, #T_163a4_row0_col4, #T_163a4_row0_col5, #T_163a4_row0_col6, #T_163a4_row0_col7, #T_163a4_row1_col0, #T_163a4_row2_col1, #T_163a4_row3_col1 {\n",
       "  background-color: #a50026;\n",
       "  color: #f1f1f1;\n",
       "}\n",
       "#T_163a4_row1_col1, #T_163a4_row2_col2, #T_163a4_row2_col3, #T_163a4_row2_col4, #T_163a4_row2_col5, #T_163a4_row2_col6, #T_163a4_row2_col7, #T_163a4_row4_col0 {\n",
       "  background-color: #006837;\n",
       "  color: #f1f1f1;\n",
       "}\n",
       "#T_163a4_row1_col2, #T_163a4_row1_col4, #T_163a4_row1_col7 {\n",
       "  background-color: #dcf08f;\n",
       "  color: #000000;\n",
       "}\n",
       "#T_163a4_row1_col3 {\n",
       "  background-color: #f5fbb2;\n",
       "  color: #000000;\n",
       "}\n",
       "#T_163a4_row1_col5 {\n",
       "  background-color: #eef8a8;\n",
       "  color: #000000;\n",
       "}\n",
       "#T_163a4_row1_col6, #T_163a4_row4_col6 {\n",
       "  background-color: #fffcba;\n",
       "  color: #000000;\n",
       "}\n",
       "#T_163a4_row2_col0 {\n",
       "  background-color: #c62027;\n",
       "  color: #f1f1f1;\n",
       "}\n",
       "#T_163a4_row3_col0 {\n",
       "  background-color: #ef633f;\n",
       "  color: #f1f1f1;\n",
       "}\n",
       "#T_163a4_row3_col2, #T_163a4_row3_col4, #T_163a4_row3_col7 {\n",
       "  background-color: #fff1a8;\n",
       "  color: #000000;\n",
       "}\n",
       "#T_163a4_row3_col3 {\n",
       "  background-color: #fbfdba;\n",
       "  color: #000000;\n",
       "}\n",
       "#T_163a4_row3_col5 {\n",
       "  background-color: #fffdbc;\n",
       "  color: #000000;\n",
       "}\n",
       "#T_163a4_row3_col6 {\n",
       "  background-color: #fffbb8;\n",
       "  color: #000000;\n",
       "}\n",
       "#T_163a4_row4_col1 {\n",
       "  background-color: #d22b27;\n",
       "  color: #f1f1f1;\n",
       "}\n",
       "#T_163a4_row4_col2, #T_163a4_row4_col4, #T_163a4_row4_col7 {\n",
       "  background-color: #30a356;\n",
       "  color: #f1f1f1;\n",
       "}\n",
       "#T_163a4_row4_col3 {\n",
       "  background-color: #a2d76a;\n",
       "  color: #000000;\n",
       "}\n",
       "#T_163a4_row4_col5 {\n",
       "  background-color: #c1e57b;\n",
       "  color: #000000;\n",
       "}\n",
       "</style>\n",
       "<table id=\"T_163a4_\">\n",
       "  <thead>\n",
       "    <tr>\n",
       "      <th class=\"blank level0\" >&nbsp;</th>\n",
       "      <th class=\"col_heading level0 col0\" >fit_time</th>\n",
       "      <th class=\"col_heading level0 col1\" >score_time</th>\n",
       "      <th class=\"col_heading level0 col2\" >test_accuracy</th>\n",
       "      <th class=\"col_heading level0 col3\" >test_precision_weighted</th>\n",
       "      <th class=\"col_heading level0 col4\" >test_recall_weighted</th>\n",
       "      <th class=\"col_heading level0 col5\" >test_f1_weighted</th>\n",
       "      <th class=\"col_heading level0 col6\" >test_f1_macro</th>\n",
       "      <th class=\"col_heading level0 col7\" >test_f1_micro</th>\n",
       "    </tr>\n",
       "  </thead>\n",
       "  <tbody>\n",
       "    <tr>\n",
       "      <th id=\"T_163a4_level0_row0\" class=\"row_heading level0 row0\" >Baseline</th>\n",
       "      <td id=\"T_163a4_row0_col0\" class=\"data row0 col0\" >0.012198</td>\n",
       "      <td id=\"T_163a4_row0_col1\" class=\"data row0 col1\" >0.015189</td>\n",
       "      <td id=\"T_163a4_row0_col2\" class=\"data row0 col2\" >0.297061</td>\n",
       "      <td id=\"T_163a4_row0_col3\" class=\"data row0 col3\" >0.299731</td>\n",
       "      <td id=\"T_163a4_row0_col4\" class=\"data row0 col4\" >0.297061</td>\n",
       "      <td id=\"T_163a4_row0_col5\" class=\"data row0 col5\" >0.298219</td>\n",
       "      <td id=\"T_163a4_row0_col6\" class=\"data row0 col6\" >0.198668</td>\n",
       "      <td id=\"T_163a4_row0_col7\" class=\"data row0 col7\" >0.297061</td>\n",
       "    </tr>\n",
       "    <tr>\n",
       "      <th id=\"T_163a4_level0_row1\" class=\"row_heading level0 row1\" >kNN</th>\n",
       "      <td id=\"T_163a4_row1_col0\" class=\"data row1 col0\" >0.024109</td>\n",
       "      <td id=\"T_163a4_row1_col1\" class=\"data row1 col1\" >0.945586</td>\n",
       "      <td id=\"T_163a4_row1_col2\" class=\"data row1 col2\" >0.486764</td>\n",
       "      <td id=\"T_163a4_row1_col3\" class=\"data row1 col3\" >0.448355</td>\n",
       "      <td id=\"T_163a4_row1_col4\" class=\"data row1 col4\" >0.486764</td>\n",
       "      <td id=\"T_163a4_row1_col5\" class=\"data row1 col5\" >0.458715</td>\n",
       "      <td id=\"T_163a4_row1_col6\" class=\"data row1 col6\" >0.332614</td>\n",
       "      <td id=\"T_163a4_row1_col7\" class=\"data row1 col7\" >0.486764</td>\n",
       "    </tr>\n",
       "    <tr>\n",
       "      <th id=\"T_163a4_level0_row2\" class=\"row_heading level0 row2\" >Logit</th>\n",
       "      <td id=\"T_163a4_row2_col0\" class=\"data row2 col0\" >0.940878</td>\n",
       "      <td id=\"T_163a4_row2_col1\" class=\"data row2 col1\" >0.017234</td>\n",
       "      <td id=\"T_163a4_row2_col2\" class=\"data row2 col2\" >0.617055</td>\n",
       "      <td id=\"T_163a4_row2_col3\" class=\"data row2 col3\" >0.581679</td>\n",
       "      <td id=\"T_163a4_row2_col4\" class=\"data row2 col4\" >0.617055</td>\n",
       "      <td id=\"T_163a4_row2_col5\" class=\"data row2 col5\" >0.592195</td>\n",
       "      <td id=\"T_163a4_row2_col6\" class=\"data row2 col6\" >0.472005</td>\n",
       "      <td id=\"T_163a4_row2_col7\" class=\"data row2 col7\" >0.617055</td>\n",
       "    </tr>\n",
       "    <tr>\n",
       "      <th id=\"T_163a4_level0_row3\" class=\"row_heading level0 row3\" >decisionTree</th>\n",
       "      <td id=\"T_163a4_row3_col0\" class=\"data row3 col0\" >2.561464</td>\n",
       "      <td id=\"T_163a4_row3_col1\" class=\"data row3 col1\" >0.017710</td>\n",
       "      <td id=\"T_163a4_row3_col2\" class=\"data row3 col2\" >0.443087</td>\n",
       "      <td id=\"T_163a4_row3_col3\" class=\"data row3 col3\" >0.443397</td>\n",
       "      <td id=\"T_163a4_row3_col4\" class=\"data row3 col4\" >0.443087</td>\n",
       "      <td id=\"T_163a4_row3_col5\" class=\"data row3 col5\" >0.442947</td>\n",
       "      <td id=\"T_163a4_row3_col6\" class=\"data row3 col6\" >0.331157</td>\n",
       "      <td id=\"T_163a4_row3_col7\" class=\"data row3 col7\" >0.443087</td>\n",
       "    </tr>\n",
       "    <tr>\n",
       "      <th id=\"T_163a4_level0_row4\" class=\"row_heading level0 row4\" >randomForest</th>\n",
       "      <td id=\"T_163a4_row4_col0\" class=\"data row4 col0\" >13.897068</td>\n",
       "      <td id=\"T_163a4_row4_col1\" class=\"data row4 col1\" >0.099873</td>\n",
       "      <td id=\"T_163a4_row4_col2\" class=\"data row4 col2\" >0.574648</td>\n",
       "      <td id=\"T_163a4_row4_col3\" class=\"data row4 col3\" >0.498620</td>\n",
       "      <td id=\"T_163a4_row4_col4\" class=\"data row4 col4\" >0.574648</td>\n",
       "      <td id=\"T_163a4_row4_col5\" class=\"data row4 col5\" >0.488434</td>\n",
       "      <td id=\"T_163a4_row4_col6\" class=\"data row4 col6\" >0.332322</td>\n",
       "      <td id=\"T_163a4_row4_col7\" class=\"data row4 col7\" >0.574648</td>\n",
       "    </tr>\n",
       "  </tbody>\n",
       "</table>\n"
      ],
      "text/plain": [
       "<pandas.io.formats.style.Styler at 0x2e5f7ce71f0>"
      ]
     },
     "execution_count": 19,
     "metadata": {},
     "output_type": "execute_result"
    }
   ],
   "source": [
    "# Classifers to test\n",
    "classifiers = {\n",
    "    'Baseline': DummyClassifier(strategy = 'stratified'),\n",
    "    'kNN': KNeighborsClassifier(),\n",
    "    'Logit':LogisticRegression(),\n",
    "    'decisionTree': DecisionTreeClassifier(),\n",
    "    'randomForest':RandomForestClassifier()\n",
    "}\n",
    "\n",
    "scores = {} # Store cross-validation results in a dictionary\n",
    "for classifier in classifiers: \n",
    "    scores[classifier] = cross_validate( # perform cross-validation\n",
    "        classifiers[classifier], # classifier object\n",
    "        scaled_feat_matrix_lemma, # feature matrix\n",
    "        y_stars, # gold labels\n",
    "        cv=10, #number of folds\n",
    "        scoring=['accuracy','precision_weighted', 'recall_weighted', 'f1_weighted', 'f1_macro', 'f1_micro'] # scoring methods\n",
    "    )\n",
    "    \n",
    "compare_scores(scores)"
   ]
  },
  {
   "cell_type": "markdown",
   "metadata": {
    "tags": []
   },
   "source": [
    "### These results are not bad at all. The best classifier, Logit, performed about 32% better than baseline accuracy, more than doubling baseline accuracy. This is in line with our original hypothesis that tfidf lemmas would be very informative relative to baseline accuracy. That being said, 62% is still not particularly high accuracy, and so below we take steps to try and improve it.\n",
    "\n",
    "Next, we decided to filter down our feature matrix to the 50 most informative features, to try and reduce potential overfitting and improve accuracy score."
   ]
  },
  {
   "cell_type": "code",
   "execution_count": 11,
   "metadata": {},
   "outputs": [
    {
     "name": "stdout",
     "output_type": "stream",
     "text": [
      "Wall time: 45.5 s\n"
     ]
    }
   ],
   "source": [
    "%%time\n",
    "\n",
    "##Now selecting top 50 of 237 features to see how it affects the cv accuracy\n",
    "\n",
    "selector = SelectKBest(score_func = mutual_info_regression, k = 50)\n",
    "X_top_50 = selector.fit_transform(scaled_feat_matrix_lemma, y_stars)"
   ]
  },
  {
   "cell_type": "code",
   "execution_count": 12,
   "metadata": {
    "collapsed": true,
    "jupyter": {
     "outputs_hidden": true
    },
    "tags": []
   },
   "outputs": [
    {
     "ename": "KeyboardInterrupt",
     "evalue": "",
     "output_type": "error",
     "traceback": [
      "\u001b[1;31m---------------------------------------------------------------------------\u001b[0m",
      "\u001b[1;31mKeyboardInterrupt\u001b[0m                         Traceback (most recent call last)",
      "\u001b[1;32m~\\AppData\\Local\\Temp/ipykernel_365820/3892084081.py\u001b[0m in \u001b[0;36m<module>\u001b[1;34m\u001b[0m\n\u001b[0;32m     10\u001b[0m \u001b[0mscores\u001b[0m \u001b[1;33m=\u001b[0m \u001b[1;33m{\u001b[0m\u001b[1;33m}\u001b[0m \u001b[1;31m# Store cross-validation results in a dictionary\u001b[0m\u001b[1;33m\u001b[0m\u001b[1;33m\u001b[0m\u001b[0m\n\u001b[0;32m     11\u001b[0m \u001b[1;32mfor\u001b[0m \u001b[0mclassifier\u001b[0m \u001b[1;32min\u001b[0m \u001b[0mclassifiers\u001b[0m\u001b[1;33m:\u001b[0m\u001b[1;33m\u001b[0m\u001b[1;33m\u001b[0m\u001b[0m\n\u001b[1;32m---> 12\u001b[1;33m     scores[classifier] = cross_validate( # perform cross-validation\n\u001b[0m\u001b[0;32m     13\u001b[0m         \u001b[0mclassifiers\u001b[0m\u001b[1;33m[\u001b[0m\u001b[0mclassifier\u001b[0m\u001b[1;33m]\u001b[0m\u001b[1;33m,\u001b[0m \u001b[1;31m# classifier object\u001b[0m\u001b[1;33m\u001b[0m\u001b[1;33m\u001b[0m\u001b[0m\n\u001b[0;32m     14\u001b[0m         \u001b[0mX_top_50\u001b[0m\u001b[1;33m,\u001b[0m \u001b[1;31m# feature matrix\u001b[0m\u001b[1;33m\u001b[0m\u001b[1;33m\u001b[0m\u001b[0m\n",
      "\u001b[1;32m~\\anaconda3\\envs\\3350\\lib\\site-packages\\sklearn\\model_selection\\_validation.py\u001b[0m in \u001b[0;36mcross_validate\u001b[1;34m(estimator, X, y, groups, scoring, cv, n_jobs, verbose, fit_params, pre_dispatch, return_train_score, return_estimator, error_score)\u001b[0m\n\u001b[0;32m    265\u001b[0m     \u001b[1;31m# independent, and that it is pickle-able.\u001b[0m\u001b[1;33m\u001b[0m\u001b[1;33m\u001b[0m\u001b[0m\n\u001b[0;32m    266\u001b[0m     \u001b[0mparallel\u001b[0m \u001b[1;33m=\u001b[0m \u001b[0mParallel\u001b[0m\u001b[1;33m(\u001b[0m\u001b[0mn_jobs\u001b[0m\u001b[1;33m=\u001b[0m\u001b[0mn_jobs\u001b[0m\u001b[1;33m,\u001b[0m \u001b[0mverbose\u001b[0m\u001b[1;33m=\u001b[0m\u001b[0mverbose\u001b[0m\u001b[1;33m,\u001b[0m \u001b[0mpre_dispatch\u001b[0m\u001b[1;33m=\u001b[0m\u001b[0mpre_dispatch\u001b[0m\u001b[1;33m)\u001b[0m\u001b[1;33m\u001b[0m\u001b[1;33m\u001b[0m\u001b[0m\n\u001b[1;32m--> 267\u001b[1;33m     results = parallel(\n\u001b[0m\u001b[0;32m    268\u001b[0m         delayed(_fit_and_score)(\n\u001b[0;32m    269\u001b[0m             \u001b[0mclone\u001b[0m\u001b[1;33m(\u001b[0m\u001b[0mestimator\u001b[0m\u001b[1;33m)\u001b[0m\u001b[1;33m,\u001b[0m\u001b[1;33m\u001b[0m\u001b[1;33m\u001b[0m\u001b[0m\n",
      "\u001b[1;32m~\\anaconda3\\envs\\3350\\lib\\site-packages\\joblib\\parallel.py\u001b[0m in \u001b[0;36m__call__\u001b[1;34m(self, iterable)\u001b[0m\n\u001b[0;32m   1044\u001b[0m                 \u001b[0mself\u001b[0m\u001b[1;33m.\u001b[0m\u001b[0m_iterating\u001b[0m \u001b[1;33m=\u001b[0m \u001b[0mself\u001b[0m\u001b[1;33m.\u001b[0m\u001b[0m_original_iterator\u001b[0m \u001b[1;32mis\u001b[0m \u001b[1;32mnot\u001b[0m \u001b[1;32mNone\u001b[0m\u001b[1;33m\u001b[0m\u001b[1;33m\u001b[0m\u001b[0m\n\u001b[0;32m   1045\u001b[0m \u001b[1;33m\u001b[0m\u001b[0m\n\u001b[1;32m-> 1046\u001b[1;33m             \u001b[1;32mwhile\u001b[0m \u001b[0mself\u001b[0m\u001b[1;33m.\u001b[0m\u001b[0mdispatch_one_batch\u001b[0m\u001b[1;33m(\u001b[0m\u001b[0miterator\u001b[0m\u001b[1;33m)\u001b[0m\u001b[1;33m:\u001b[0m\u001b[1;33m\u001b[0m\u001b[1;33m\u001b[0m\u001b[0m\n\u001b[0m\u001b[0;32m   1047\u001b[0m                 \u001b[1;32mpass\u001b[0m\u001b[1;33m\u001b[0m\u001b[1;33m\u001b[0m\u001b[0m\n\u001b[0;32m   1048\u001b[0m \u001b[1;33m\u001b[0m\u001b[0m\n",
      "\u001b[1;32m~\\anaconda3\\envs\\3350\\lib\\site-packages\\joblib\\parallel.py\u001b[0m in \u001b[0;36mdispatch_one_batch\u001b[1;34m(self, iterator)\u001b[0m\n\u001b[0;32m    859\u001b[0m                 \u001b[1;32mreturn\u001b[0m \u001b[1;32mFalse\u001b[0m\u001b[1;33m\u001b[0m\u001b[1;33m\u001b[0m\u001b[0m\n\u001b[0;32m    860\u001b[0m             \u001b[1;32melse\u001b[0m\u001b[1;33m:\u001b[0m\u001b[1;33m\u001b[0m\u001b[1;33m\u001b[0m\u001b[0m\n\u001b[1;32m--> 861\u001b[1;33m                 \u001b[0mself\u001b[0m\u001b[1;33m.\u001b[0m\u001b[0m_dispatch\u001b[0m\u001b[1;33m(\u001b[0m\u001b[0mtasks\u001b[0m\u001b[1;33m)\u001b[0m\u001b[1;33m\u001b[0m\u001b[1;33m\u001b[0m\u001b[0m\n\u001b[0m\u001b[0;32m    862\u001b[0m                 \u001b[1;32mreturn\u001b[0m \u001b[1;32mTrue\u001b[0m\u001b[1;33m\u001b[0m\u001b[1;33m\u001b[0m\u001b[0m\n\u001b[0;32m    863\u001b[0m \u001b[1;33m\u001b[0m\u001b[0m\n",
      "\u001b[1;32m~\\anaconda3\\envs\\3350\\lib\\site-packages\\joblib\\parallel.py\u001b[0m in \u001b[0;36m_dispatch\u001b[1;34m(self, batch)\u001b[0m\n\u001b[0;32m    777\u001b[0m         \u001b[1;32mwith\u001b[0m \u001b[0mself\u001b[0m\u001b[1;33m.\u001b[0m\u001b[0m_lock\u001b[0m\u001b[1;33m:\u001b[0m\u001b[1;33m\u001b[0m\u001b[1;33m\u001b[0m\u001b[0m\n\u001b[0;32m    778\u001b[0m             \u001b[0mjob_idx\u001b[0m \u001b[1;33m=\u001b[0m \u001b[0mlen\u001b[0m\u001b[1;33m(\u001b[0m\u001b[0mself\u001b[0m\u001b[1;33m.\u001b[0m\u001b[0m_jobs\u001b[0m\u001b[1;33m)\u001b[0m\u001b[1;33m\u001b[0m\u001b[1;33m\u001b[0m\u001b[0m\n\u001b[1;32m--> 779\u001b[1;33m             \u001b[0mjob\u001b[0m \u001b[1;33m=\u001b[0m \u001b[0mself\u001b[0m\u001b[1;33m.\u001b[0m\u001b[0m_backend\u001b[0m\u001b[1;33m.\u001b[0m\u001b[0mapply_async\u001b[0m\u001b[1;33m(\u001b[0m\u001b[0mbatch\u001b[0m\u001b[1;33m,\u001b[0m \u001b[0mcallback\u001b[0m\u001b[1;33m=\u001b[0m\u001b[0mcb\u001b[0m\u001b[1;33m)\u001b[0m\u001b[1;33m\u001b[0m\u001b[1;33m\u001b[0m\u001b[0m\n\u001b[0m\u001b[0;32m    780\u001b[0m             \u001b[1;31m# A job can complete so quickly than its callback is\u001b[0m\u001b[1;33m\u001b[0m\u001b[1;33m\u001b[0m\u001b[0m\n\u001b[0;32m    781\u001b[0m             \u001b[1;31m# called before we get here, causing self._jobs to\u001b[0m\u001b[1;33m\u001b[0m\u001b[1;33m\u001b[0m\u001b[0m\n",
      "\u001b[1;32m~\\anaconda3\\envs\\3350\\lib\\site-packages\\joblib\\_parallel_backends.py\u001b[0m in \u001b[0;36mapply_async\u001b[1;34m(self, func, callback)\u001b[0m\n\u001b[0;32m    206\u001b[0m     \u001b[1;32mdef\u001b[0m \u001b[0mapply_async\u001b[0m\u001b[1;33m(\u001b[0m\u001b[0mself\u001b[0m\u001b[1;33m,\u001b[0m \u001b[0mfunc\u001b[0m\u001b[1;33m,\u001b[0m \u001b[0mcallback\u001b[0m\u001b[1;33m=\u001b[0m\u001b[1;32mNone\u001b[0m\u001b[1;33m)\u001b[0m\u001b[1;33m:\u001b[0m\u001b[1;33m\u001b[0m\u001b[1;33m\u001b[0m\u001b[0m\n\u001b[0;32m    207\u001b[0m         \u001b[1;34m\"\"\"Schedule a func to be run\"\"\"\u001b[0m\u001b[1;33m\u001b[0m\u001b[1;33m\u001b[0m\u001b[0m\n\u001b[1;32m--> 208\u001b[1;33m         \u001b[0mresult\u001b[0m \u001b[1;33m=\u001b[0m \u001b[0mImmediateResult\u001b[0m\u001b[1;33m(\u001b[0m\u001b[0mfunc\u001b[0m\u001b[1;33m)\u001b[0m\u001b[1;33m\u001b[0m\u001b[1;33m\u001b[0m\u001b[0m\n\u001b[0m\u001b[0;32m    209\u001b[0m         \u001b[1;32mif\u001b[0m \u001b[0mcallback\u001b[0m\u001b[1;33m:\u001b[0m\u001b[1;33m\u001b[0m\u001b[1;33m\u001b[0m\u001b[0m\n\u001b[0;32m    210\u001b[0m             \u001b[0mcallback\u001b[0m\u001b[1;33m(\u001b[0m\u001b[0mresult\u001b[0m\u001b[1;33m)\u001b[0m\u001b[1;33m\u001b[0m\u001b[1;33m\u001b[0m\u001b[0m\n",
      "\u001b[1;32m~\\anaconda3\\envs\\3350\\lib\\site-packages\\joblib\\_parallel_backends.py\u001b[0m in \u001b[0;36m__init__\u001b[1;34m(self, batch)\u001b[0m\n\u001b[0;32m    570\u001b[0m         \u001b[1;31m# Don't delay the application, to avoid keeping the input\u001b[0m\u001b[1;33m\u001b[0m\u001b[1;33m\u001b[0m\u001b[0m\n\u001b[0;32m    571\u001b[0m         \u001b[1;31m# arguments in memory\u001b[0m\u001b[1;33m\u001b[0m\u001b[1;33m\u001b[0m\u001b[0m\n\u001b[1;32m--> 572\u001b[1;33m         \u001b[0mself\u001b[0m\u001b[1;33m.\u001b[0m\u001b[0mresults\u001b[0m \u001b[1;33m=\u001b[0m \u001b[0mbatch\u001b[0m\u001b[1;33m(\u001b[0m\u001b[1;33m)\u001b[0m\u001b[1;33m\u001b[0m\u001b[1;33m\u001b[0m\u001b[0m\n\u001b[0m\u001b[0;32m    573\u001b[0m \u001b[1;33m\u001b[0m\u001b[0m\n\u001b[0;32m    574\u001b[0m     \u001b[1;32mdef\u001b[0m \u001b[0mget\u001b[0m\u001b[1;33m(\u001b[0m\u001b[0mself\u001b[0m\u001b[1;33m)\u001b[0m\u001b[1;33m:\u001b[0m\u001b[1;33m\u001b[0m\u001b[1;33m\u001b[0m\u001b[0m\n",
      "\u001b[1;32m~\\anaconda3\\envs\\3350\\lib\\site-packages\\joblib\\parallel.py\u001b[0m in \u001b[0;36m__call__\u001b[1;34m(self)\u001b[0m\n\u001b[0;32m    260\u001b[0m         \u001b[1;31m# change the default number of processes to -1\u001b[0m\u001b[1;33m\u001b[0m\u001b[1;33m\u001b[0m\u001b[0m\n\u001b[0;32m    261\u001b[0m         \u001b[1;32mwith\u001b[0m \u001b[0mparallel_backend\u001b[0m\u001b[1;33m(\u001b[0m\u001b[0mself\u001b[0m\u001b[1;33m.\u001b[0m\u001b[0m_backend\u001b[0m\u001b[1;33m,\u001b[0m \u001b[0mn_jobs\u001b[0m\u001b[1;33m=\u001b[0m\u001b[0mself\u001b[0m\u001b[1;33m.\u001b[0m\u001b[0m_n_jobs\u001b[0m\u001b[1;33m)\u001b[0m\u001b[1;33m:\u001b[0m\u001b[1;33m\u001b[0m\u001b[1;33m\u001b[0m\u001b[0m\n\u001b[1;32m--> 262\u001b[1;33m             return [func(*args, **kwargs)\n\u001b[0m\u001b[0;32m    263\u001b[0m                     for func, args, kwargs in self.items]\n\u001b[0;32m    264\u001b[0m \u001b[1;33m\u001b[0m\u001b[0m\n",
      "\u001b[1;32m~\\anaconda3\\envs\\3350\\lib\\site-packages\\joblib\\parallel.py\u001b[0m in \u001b[0;36m<listcomp>\u001b[1;34m(.0)\u001b[0m\n\u001b[0;32m    260\u001b[0m         \u001b[1;31m# change the default number of processes to -1\u001b[0m\u001b[1;33m\u001b[0m\u001b[1;33m\u001b[0m\u001b[0m\n\u001b[0;32m    261\u001b[0m         \u001b[1;32mwith\u001b[0m \u001b[0mparallel_backend\u001b[0m\u001b[1;33m(\u001b[0m\u001b[0mself\u001b[0m\u001b[1;33m.\u001b[0m\u001b[0m_backend\u001b[0m\u001b[1;33m,\u001b[0m \u001b[0mn_jobs\u001b[0m\u001b[1;33m=\u001b[0m\u001b[0mself\u001b[0m\u001b[1;33m.\u001b[0m\u001b[0m_n_jobs\u001b[0m\u001b[1;33m)\u001b[0m\u001b[1;33m:\u001b[0m\u001b[1;33m\u001b[0m\u001b[1;33m\u001b[0m\u001b[0m\n\u001b[1;32m--> 262\u001b[1;33m             return [func(*args, **kwargs)\n\u001b[0m\u001b[0;32m    263\u001b[0m                     for func, args, kwargs in self.items]\n\u001b[0;32m    264\u001b[0m \u001b[1;33m\u001b[0m\u001b[0m\n",
      "\u001b[1;32m~\\anaconda3\\envs\\3350\\lib\\site-packages\\sklearn\\utils\\fixes.py\u001b[0m in \u001b[0;36m__call__\u001b[1;34m(self, *args, **kwargs)\u001b[0m\n\u001b[0;32m    214\u001b[0m     \u001b[1;32mdef\u001b[0m \u001b[0m__call__\u001b[0m\u001b[1;33m(\u001b[0m\u001b[0mself\u001b[0m\u001b[1;33m,\u001b[0m \u001b[1;33m*\u001b[0m\u001b[0margs\u001b[0m\u001b[1;33m,\u001b[0m \u001b[1;33m**\u001b[0m\u001b[0mkwargs\u001b[0m\u001b[1;33m)\u001b[0m\u001b[1;33m:\u001b[0m\u001b[1;33m\u001b[0m\u001b[1;33m\u001b[0m\u001b[0m\n\u001b[0;32m    215\u001b[0m         \u001b[1;32mwith\u001b[0m \u001b[0mconfig_context\u001b[0m\u001b[1;33m(\u001b[0m\u001b[1;33m**\u001b[0m\u001b[0mself\u001b[0m\u001b[1;33m.\u001b[0m\u001b[0mconfig\u001b[0m\u001b[1;33m)\u001b[0m\u001b[1;33m:\u001b[0m\u001b[1;33m\u001b[0m\u001b[1;33m\u001b[0m\u001b[0m\n\u001b[1;32m--> 216\u001b[1;33m             \u001b[1;32mreturn\u001b[0m \u001b[0mself\u001b[0m\u001b[1;33m.\u001b[0m\u001b[0mfunction\u001b[0m\u001b[1;33m(\u001b[0m\u001b[1;33m*\u001b[0m\u001b[0margs\u001b[0m\u001b[1;33m,\u001b[0m \u001b[1;33m**\u001b[0m\u001b[0mkwargs\u001b[0m\u001b[1;33m)\u001b[0m\u001b[1;33m\u001b[0m\u001b[1;33m\u001b[0m\u001b[0m\n\u001b[0m\u001b[0;32m    217\u001b[0m \u001b[1;33m\u001b[0m\u001b[0m\n\u001b[0;32m    218\u001b[0m \u001b[1;33m\u001b[0m\u001b[0m\n",
      "\u001b[1;32m~\\anaconda3\\envs\\3350\\lib\\site-packages\\sklearn\\model_selection\\_validation.py\u001b[0m in \u001b[0;36m_fit_and_score\u001b[1;34m(estimator, X, y, scorer, train, test, verbose, parameters, fit_params, return_train_score, return_parameters, return_n_test_samples, return_times, return_estimator, split_progress, candidate_progress, error_score)\u001b[0m\n\u001b[0;32m    678\u001b[0m             \u001b[0mestimator\u001b[0m\u001b[1;33m.\u001b[0m\u001b[0mfit\u001b[0m\u001b[1;33m(\u001b[0m\u001b[0mX_train\u001b[0m\u001b[1;33m,\u001b[0m \u001b[1;33m**\u001b[0m\u001b[0mfit_params\u001b[0m\u001b[1;33m)\u001b[0m\u001b[1;33m\u001b[0m\u001b[1;33m\u001b[0m\u001b[0m\n\u001b[0;32m    679\u001b[0m         \u001b[1;32melse\u001b[0m\u001b[1;33m:\u001b[0m\u001b[1;33m\u001b[0m\u001b[1;33m\u001b[0m\u001b[0m\n\u001b[1;32m--> 680\u001b[1;33m             \u001b[0mestimator\u001b[0m\u001b[1;33m.\u001b[0m\u001b[0mfit\u001b[0m\u001b[1;33m(\u001b[0m\u001b[0mX_train\u001b[0m\u001b[1;33m,\u001b[0m \u001b[0my_train\u001b[0m\u001b[1;33m,\u001b[0m \u001b[1;33m**\u001b[0m\u001b[0mfit_params\u001b[0m\u001b[1;33m)\u001b[0m\u001b[1;33m\u001b[0m\u001b[1;33m\u001b[0m\u001b[0m\n\u001b[0m\u001b[0;32m    681\u001b[0m \u001b[1;33m\u001b[0m\u001b[0m\n\u001b[0;32m    682\u001b[0m     \u001b[1;32mexcept\u001b[0m \u001b[0mException\u001b[0m\u001b[1;33m:\u001b[0m\u001b[1;33m\u001b[0m\u001b[1;33m\u001b[0m\u001b[0m\n",
      "\u001b[1;32m~\\anaconda3\\envs\\3350\\lib\\site-packages\\sklearn\\ensemble\\_forest.py\u001b[0m in \u001b[0;36mfit\u001b[1;34m(self, X, y, sample_weight)\u001b[0m\n\u001b[0;32m    448\u001b[0m             \u001b[1;31m# parallel_backend contexts set at a higher level,\u001b[0m\u001b[1;33m\u001b[0m\u001b[1;33m\u001b[0m\u001b[0m\n\u001b[0;32m    449\u001b[0m             \u001b[1;31m# since correctness does not rely on using threads.\u001b[0m\u001b[1;33m\u001b[0m\u001b[1;33m\u001b[0m\u001b[0m\n\u001b[1;32m--> 450\u001b[1;33m             trees = Parallel(\n\u001b[0m\u001b[0;32m    451\u001b[0m                 \u001b[0mn_jobs\u001b[0m\u001b[1;33m=\u001b[0m\u001b[0mself\u001b[0m\u001b[1;33m.\u001b[0m\u001b[0mn_jobs\u001b[0m\u001b[1;33m,\u001b[0m\u001b[1;33m\u001b[0m\u001b[1;33m\u001b[0m\u001b[0m\n\u001b[0;32m    452\u001b[0m                 \u001b[0mverbose\u001b[0m\u001b[1;33m=\u001b[0m\u001b[0mself\u001b[0m\u001b[1;33m.\u001b[0m\u001b[0mverbose\u001b[0m\u001b[1;33m,\u001b[0m\u001b[1;33m\u001b[0m\u001b[1;33m\u001b[0m\u001b[0m\n",
      "\u001b[1;32m~\\anaconda3\\envs\\3350\\lib\\site-packages\\joblib\\parallel.py\u001b[0m in \u001b[0;36m__call__\u001b[1;34m(self, iterable)\u001b[0m\n\u001b[0;32m   1044\u001b[0m                 \u001b[0mself\u001b[0m\u001b[1;33m.\u001b[0m\u001b[0m_iterating\u001b[0m \u001b[1;33m=\u001b[0m \u001b[0mself\u001b[0m\u001b[1;33m.\u001b[0m\u001b[0m_original_iterator\u001b[0m \u001b[1;32mis\u001b[0m \u001b[1;32mnot\u001b[0m \u001b[1;32mNone\u001b[0m\u001b[1;33m\u001b[0m\u001b[1;33m\u001b[0m\u001b[0m\n\u001b[0;32m   1045\u001b[0m \u001b[1;33m\u001b[0m\u001b[0m\n\u001b[1;32m-> 1046\u001b[1;33m             \u001b[1;32mwhile\u001b[0m \u001b[0mself\u001b[0m\u001b[1;33m.\u001b[0m\u001b[0mdispatch_one_batch\u001b[0m\u001b[1;33m(\u001b[0m\u001b[0miterator\u001b[0m\u001b[1;33m)\u001b[0m\u001b[1;33m:\u001b[0m\u001b[1;33m\u001b[0m\u001b[1;33m\u001b[0m\u001b[0m\n\u001b[0m\u001b[0;32m   1047\u001b[0m                 \u001b[1;32mpass\u001b[0m\u001b[1;33m\u001b[0m\u001b[1;33m\u001b[0m\u001b[0m\n\u001b[0;32m   1048\u001b[0m \u001b[1;33m\u001b[0m\u001b[0m\n",
      "\u001b[1;32m~\\anaconda3\\envs\\3350\\lib\\site-packages\\joblib\\parallel.py\u001b[0m in \u001b[0;36mdispatch_one_batch\u001b[1;34m(self, iterator)\u001b[0m\n\u001b[0;32m    859\u001b[0m                 \u001b[1;32mreturn\u001b[0m \u001b[1;32mFalse\u001b[0m\u001b[1;33m\u001b[0m\u001b[1;33m\u001b[0m\u001b[0m\n\u001b[0;32m    860\u001b[0m             \u001b[1;32melse\u001b[0m\u001b[1;33m:\u001b[0m\u001b[1;33m\u001b[0m\u001b[1;33m\u001b[0m\u001b[0m\n\u001b[1;32m--> 861\u001b[1;33m                 \u001b[0mself\u001b[0m\u001b[1;33m.\u001b[0m\u001b[0m_dispatch\u001b[0m\u001b[1;33m(\u001b[0m\u001b[0mtasks\u001b[0m\u001b[1;33m)\u001b[0m\u001b[1;33m\u001b[0m\u001b[1;33m\u001b[0m\u001b[0m\n\u001b[0m\u001b[0;32m    862\u001b[0m                 \u001b[1;32mreturn\u001b[0m \u001b[1;32mTrue\u001b[0m\u001b[1;33m\u001b[0m\u001b[1;33m\u001b[0m\u001b[0m\n\u001b[0;32m    863\u001b[0m \u001b[1;33m\u001b[0m\u001b[0m\n",
      "\u001b[1;32m~\\anaconda3\\envs\\3350\\lib\\site-packages\\joblib\\parallel.py\u001b[0m in \u001b[0;36m_dispatch\u001b[1;34m(self, batch)\u001b[0m\n\u001b[0;32m    777\u001b[0m         \u001b[1;32mwith\u001b[0m \u001b[0mself\u001b[0m\u001b[1;33m.\u001b[0m\u001b[0m_lock\u001b[0m\u001b[1;33m:\u001b[0m\u001b[1;33m\u001b[0m\u001b[1;33m\u001b[0m\u001b[0m\n\u001b[0;32m    778\u001b[0m             \u001b[0mjob_idx\u001b[0m \u001b[1;33m=\u001b[0m \u001b[0mlen\u001b[0m\u001b[1;33m(\u001b[0m\u001b[0mself\u001b[0m\u001b[1;33m.\u001b[0m\u001b[0m_jobs\u001b[0m\u001b[1;33m)\u001b[0m\u001b[1;33m\u001b[0m\u001b[1;33m\u001b[0m\u001b[0m\n\u001b[1;32m--> 779\u001b[1;33m             \u001b[0mjob\u001b[0m \u001b[1;33m=\u001b[0m \u001b[0mself\u001b[0m\u001b[1;33m.\u001b[0m\u001b[0m_backend\u001b[0m\u001b[1;33m.\u001b[0m\u001b[0mapply_async\u001b[0m\u001b[1;33m(\u001b[0m\u001b[0mbatch\u001b[0m\u001b[1;33m,\u001b[0m \u001b[0mcallback\u001b[0m\u001b[1;33m=\u001b[0m\u001b[0mcb\u001b[0m\u001b[1;33m)\u001b[0m\u001b[1;33m\u001b[0m\u001b[1;33m\u001b[0m\u001b[0m\n\u001b[0m\u001b[0;32m    780\u001b[0m             \u001b[1;31m# A job can complete so quickly than its callback is\u001b[0m\u001b[1;33m\u001b[0m\u001b[1;33m\u001b[0m\u001b[0m\n\u001b[0;32m    781\u001b[0m             \u001b[1;31m# called before we get here, causing self._jobs to\u001b[0m\u001b[1;33m\u001b[0m\u001b[1;33m\u001b[0m\u001b[0m\n",
      "\u001b[1;32m~\\anaconda3\\envs\\3350\\lib\\site-packages\\joblib\\_parallel_backends.py\u001b[0m in \u001b[0;36mapply_async\u001b[1;34m(self, func, callback)\u001b[0m\n\u001b[0;32m    206\u001b[0m     \u001b[1;32mdef\u001b[0m \u001b[0mapply_async\u001b[0m\u001b[1;33m(\u001b[0m\u001b[0mself\u001b[0m\u001b[1;33m,\u001b[0m \u001b[0mfunc\u001b[0m\u001b[1;33m,\u001b[0m \u001b[0mcallback\u001b[0m\u001b[1;33m=\u001b[0m\u001b[1;32mNone\u001b[0m\u001b[1;33m)\u001b[0m\u001b[1;33m:\u001b[0m\u001b[1;33m\u001b[0m\u001b[1;33m\u001b[0m\u001b[0m\n\u001b[0;32m    207\u001b[0m         \u001b[1;34m\"\"\"Schedule a func to be run\"\"\"\u001b[0m\u001b[1;33m\u001b[0m\u001b[1;33m\u001b[0m\u001b[0m\n\u001b[1;32m--> 208\u001b[1;33m         \u001b[0mresult\u001b[0m \u001b[1;33m=\u001b[0m \u001b[0mImmediateResult\u001b[0m\u001b[1;33m(\u001b[0m\u001b[0mfunc\u001b[0m\u001b[1;33m)\u001b[0m\u001b[1;33m\u001b[0m\u001b[1;33m\u001b[0m\u001b[0m\n\u001b[0m\u001b[0;32m    209\u001b[0m         \u001b[1;32mif\u001b[0m \u001b[0mcallback\u001b[0m\u001b[1;33m:\u001b[0m\u001b[1;33m\u001b[0m\u001b[1;33m\u001b[0m\u001b[0m\n\u001b[0;32m    210\u001b[0m             \u001b[0mcallback\u001b[0m\u001b[1;33m(\u001b[0m\u001b[0mresult\u001b[0m\u001b[1;33m)\u001b[0m\u001b[1;33m\u001b[0m\u001b[1;33m\u001b[0m\u001b[0m\n",
      "\u001b[1;32m~\\anaconda3\\envs\\3350\\lib\\site-packages\\joblib\\_parallel_backends.py\u001b[0m in \u001b[0;36m__init__\u001b[1;34m(self, batch)\u001b[0m\n\u001b[0;32m    570\u001b[0m         \u001b[1;31m# Don't delay the application, to avoid keeping the input\u001b[0m\u001b[1;33m\u001b[0m\u001b[1;33m\u001b[0m\u001b[0m\n\u001b[0;32m    571\u001b[0m         \u001b[1;31m# arguments in memory\u001b[0m\u001b[1;33m\u001b[0m\u001b[1;33m\u001b[0m\u001b[0m\n\u001b[1;32m--> 572\u001b[1;33m         \u001b[0mself\u001b[0m\u001b[1;33m.\u001b[0m\u001b[0mresults\u001b[0m \u001b[1;33m=\u001b[0m \u001b[0mbatch\u001b[0m\u001b[1;33m(\u001b[0m\u001b[1;33m)\u001b[0m\u001b[1;33m\u001b[0m\u001b[1;33m\u001b[0m\u001b[0m\n\u001b[0m\u001b[0;32m    573\u001b[0m \u001b[1;33m\u001b[0m\u001b[0m\n\u001b[0;32m    574\u001b[0m     \u001b[1;32mdef\u001b[0m \u001b[0mget\u001b[0m\u001b[1;33m(\u001b[0m\u001b[0mself\u001b[0m\u001b[1;33m)\u001b[0m\u001b[1;33m:\u001b[0m\u001b[1;33m\u001b[0m\u001b[1;33m\u001b[0m\u001b[0m\n",
      "\u001b[1;32m~\\anaconda3\\envs\\3350\\lib\\site-packages\\joblib\\parallel.py\u001b[0m in \u001b[0;36m__call__\u001b[1;34m(self)\u001b[0m\n\u001b[0;32m    260\u001b[0m         \u001b[1;31m# change the default number of processes to -1\u001b[0m\u001b[1;33m\u001b[0m\u001b[1;33m\u001b[0m\u001b[0m\n\u001b[0;32m    261\u001b[0m         \u001b[1;32mwith\u001b[0m \u001b[0mparallel_backend\u001b[0m\u001b[1;33m(\u001b[0m\u001b[0mself\u001b[0m\u001b[1;33m.\u001b[0m\u001b[0m_backend\u001b[0m\u001b[1;33m,\u001b[0m \u001b[0mn_jobs\u001b[0m\u001b[1;33m=\u001b[0m\u001b[0mself\u001b[0m\u001b[1;33m.\u001b[0m\u001b[0m_n_jobs\u001b[0m\u001b[1;33m)\u001b[0m\u001b[1;33m:\u001b[0m\u001b[1;33m\u001b[0m\u001b[1;33m\u001b[0m\u001b[0m\n\u001b[1;32m--> 262\u001b[1;33m             return [func(*args, **kwargs)\n\u001b[0m\u001b[0;32m    263\u001b[0m                     for func, args, kwargs in self.items]\n\u001b[0;32m    264\u001b[0m \u001b[1;33m\u001b[0m\u001b[0m\n",
      "\u001b[1;32m~\\anaconda3\\envs\\3350\\lib\\site-packages\\joblib\\parallel.py\u001b[0m in \u001b[0;36m<listcomp>\u001b[1;34m(.0)\u001b[0m\n\u001b[0;32m    260\u001b[0m         \u001b[1;31m# change the default number of processes to -1\u001b[0m\u001b[1;33m\u001b[0m\u001b[1;33m\u001b[0m\u001b[0m\n\u001b[0;32m    261\u001b[0m         \u001b[1;32mwith\u001b[0m \u001b[0mparallel_backend\u001b[0m\u001b[1;33m(\u001b[0m\u001b[0mself\u001b[0m\u001b[1;33m.\u001b[0m\u001b[0m_backend\u001b[0m\u001b[1;33m,\u001b[0m \u001b[0mn_jobs\u001b[0m\u001b[1;33m=\u001b[0m\u001b[0mself\u001b[0m\u001b[1;33m.\u001b[0m\u001b[0m_n_jobs\u001b[0m\u001b[1;33m)\u001b[0m\u001b[1;33m:\u001b[0m\u001b[1;33m\u001b[0m\u001b[1;33m\u001b[0m\u001b[0m\n\u001b[1;32m--> 262\u001b[1;33m             return [func(*args, **kwargs)\n\u001b[0m\u001b[0;32m    263\u001b[0m                     for func, args, kwargs in self.items]\n\u001b[0;32m    264\u001b[0m \u001b[1;33m\u001b[0m\u001b[0m\n",
      "\u001b[1;32m~\\anaconda3\\envs\\3350\\lib\\site-packages\\sklearn\\utils\\fixes.py\u001b[0m in \u001b[0;36m__call__\u001b[1;34m(self, *args, **kwargs)\u001b[0m\n\u001b[0;32m    214\u001b[0m     \u001b[1;32mdef\u001b[0m \u001b[0m__call__\u001b[0m\u001b[1;33m(\u001b[0m\u001b[0mself\u001b[0m\u001b[1;33m,\u001b[0m \u001b[1;33m*\u001b[0m\u001b[0margs\u001b[0m\u001b[1;33m,\u001b[0m \u001b[1;33m**\u001b[0m\u001b[0mkwargs\u001b[0m\u001b[1;33m)\u001b[0m\u001b[1;33m:\u001b[0m\u001b[1;33m\u001b[0m\u001b[1;33m\u001b[0m\u001b[0m\n\u001b[0;32m    215\u001b[0m         \u001b[1;32mwith\u001b[0m \u001b[0mconfig_context\u001b[0m\u001b[1;33m(\u001b[0m\u001b[1;33m**\u001b[0m\u001b[0mself\u001b[0m\u001b[1;33m.\u001b[0m\u001b[0mconfig\u001b[0m\u001b[1;33m)\u001b[0m\u001b[1;33m:\u001b[0m\u001b[1;33m\u001b[0m\u001b[1;33m\u001b[0m\u001b[0m\n\u001b[1;32m--> 216\u001b[1;33m             \u001b[1;32mreturn\u001b[0m \u001b[0mself\u001b[0m\u001b[1;33m.\u001b[0m\u001b[0mfunction\u001b[0m\u001b[1;33m(\u001b[0m\u001b[1;33m*\u001b[0m\u001b[0margs\u001b[0m\u001b[1;33m,\u001b[0m \u001b[1;33m**\u001b[0m\u001b[0mkwargs\u001b[0m\u001b[1;33m)\u001b[0m\u001b[1;33m\u001b[0m\u001b[1;33m\u001b[0m\u001b[0m\n\u001b[0m\u001b[0;32m    217\u001b[0m \u001b[1;33m\u001b[0m\u001b[0m\n\u001b[0;32m    218\u001b[0m \u001b[1;33m\u001b[0m\u001b[0m\n",
      "\u001b[1;32m~\\anaconda3\\envs\\3350\\lib\\site-packages\\sklearn\\ensemble\\_forest.py\u001b[0m in \u001b[0;36m_parallel_build_trees\u001b[1;34m(tree, forest, X, y, sample_weight, tree_idx, n_trees, verbose, class_weight, n_samples_bootstrap)\u001b[0m\n\u001b[0;32m    183\u001b[0m             \u001b[0mcurr_sample_weight\u001b[0m \u001b[1;33m*=\u001b[0m \u001b[0mcompute_sample_weight\u001b[0m\u001b[1;33m(\u001b[0m\u001b[1;34m\"balanced\"\u001b[0m\u001b[1;33m,\u001b[0m \u001b[0my\u001b[0m\u001b[1;33m,\u001b[0m \u001b[0mindices\u001b[0m\u001b[1;33m=\u001b[0m\u001b[0mindices\u001b[0m\u001b[1;33m)\u001b[0m\u001b[1;33m\u001b[0m\u001b[1;33m\u001b[0m\u001b[0m\n\u001b[0;32m    184\u001b[0m \u001b[1;33m\u001b[0m\u001b[0m\n\u001b[1;32m--> 185\u001b[1;33m         \u001b[0mtree\u001b[0m\u001b[1;33m.\u001b[0m\u001b[0mfit\u001b[0m\u001b[1;33m(\u001b[0m\u001b[0mX\u001b[0m\u001b[1;33m,\u001b[0m \u001b[0my\u001b[0m\u001b[1;33m,\u001b[0m \u001b[0msample_weight\u001b[0m\u001b[1;33m=\u001b[0m\u001b[0mcurr_sample_weight\u001b[0m\u001b[1;33m,\u001b[0m \u001b[0mcheck_input\u001b[0m\u001b[1;33m=\u001b[0m\u001b[1;32mFalse\u001b[0m\u001b[1;33m)\u001b[0m\u001b[1;33m\u001b[0m\u001b[1;33m\u001b[0m\u001b[0m\n\u001b[0m\u001b[0;32m    186\u001b[0m     \u001b[1;32melse\u001b[0m\u001b[1;33m:\u001b[0m\u001b[1;33m\u001b[0m\u001b[1;33m\u001b[0m\u001b[0m\n\u001b[0;32m    187\u001b[0m         \u001b[0mtree\u001b[0m\u001b[1;33m.\u001b[0m\u001b[0mfit\u001b[0m\u001b[1;33m(\u001b[0m\u001b[0mX\u001b[0m\u001b[1;33m,\u001b[0m \u001b[0my\u001b[0m\u001b[1;33m,\u001b[0m \u001b[0msample_weight\u001b[0m\u001b[1;33m=\u001b[0m\u001b[0msample_weight\u001b[0m\u001b[1;33m,\u001b[0m \u001b[0mcheck_input\u001b[0m\u001b[1;33m=\u001b[0m\u001b[1;32mFalse\u001b[0m\u001b[1;33m)\u001b[0m\u001b[1;33m\u001b[0m\u001b[1;33m\u001b[0m\u001b[0m\n",
      "\u001b[1;32m~\\anaconda3\\envs\\3350\\lib\\site-packages\\sklearn\\tree\\_classes.py\u001b[0m in \u001b[0;36mfit\u001b[1;34m(self, X, y, sample_weight, check_input, X_idx_sorted)\u001b[0m\n\u001b[0;32m    935\u001b[0m         \"\"\"\n\u001b[0;32m    936\u001b[0m \u001b[1;33m\u001b[0m\u001b[0m\n\u001b[1;32m--> 937\u001b[1;33m         super().fit(\n\u001b[0m\u001b[0;32m    938\u001b[0m             \u001b[0mX\u001b[0m\u001b[1;33m,\u001b[0m\u001b[1;33m\u001b[0m\u001b[1;33m\u001b[0m\u001b[0m\n\u001b[0;32m    939\u001b[0m             \u001b[0my\u001b[0m\u001b[1;33m,\u001b[0m\u001b[1;33m\u001b[0m\u001b[1;33m\u001b[0m\u001b[0m\n",
      "\u001b[1;32m~\\anaconda3\\envs\\3350\\lib\\site-packages\\sklearn\\tree\\_classes.py\u001b[0m in \u001b[0;36mfit\u001b[1;34m(self, X, y, sample_weight, check_input, X_idx_sorted)\u001b[0m\n\u001b[0;32m    418\u001b[0m             )\n\u001b[0;32m    419\u001b[0m \u001b[1;33m\u001b[0m\u001b[0m\n\u001b[1;32m--> 420\u001b[1;33m         \u001b[0mbuilder\u001b[0m\u001b[1;33m.\u001b[0m\u001b[0mbuild\u001b[0m\u001b[1;33m(\u001b[0m\u001b[0mself\u001b[0m\u001b[1;33m.\u001b[0m\u001b[0mtree_\u001b[0m\u001b[1;33m,\u001b[0m \u001b[0mX\u001b[0m\u001b[1;33m,\u001b[0m \u001b[0my\u001b[0m\u001b[1;33m,\u001b[0m \u001b[0msample_weight\u001b[0m\u001b[1;33m)\u001b[0m\u001b[1;33m\u001b[0m\u001b[1;33m\u001b[0m\u001b[0m\n\u001b[0m\u001b[0;32m    421\u001b[0m \u001b[1;33m\u001b[0m\u001b[0m\n\u001b[0;32m    422\u001b[0m         \u001b[1;32mif\u001b[0m \u001b[0mself\u001b[0m\u001b[1;33m.\u001b[0m\u001b[0mn_outputs_\u001b[0m \u001b[1;33m==\u001b[0m \u001b[1;36m1\u001b[0m \u001b[1;32mand\u001b[0m \u001b[0mis_classifier\u001b[0m\u001b[1;33m(\u001b[0m\u001b[0mself\u001b[0m\u001b[1;33m)\u001b[0m\u001b[1;33m:\u001b[0m\u001b[1;33m\u001b[0m\u001b[1;33m\u001b[0m\u001b[0m\n",
      "\u001b[1;31mKeyboardInterrupt\u001b[0m: "
     ]
    }
   ],
   "source": [
    "# Classifers to test\n",
    "classifiers = {\n",
    "    'Baseline': DummyClassifier(strategy = 'stratified'),\n",
    "    'kNN': KNeighborsClassifier(),\n",
    "    'Logit':LogisticRegression(),\n",
    "    'decisionTree': DecisionTreeClassifier(),\n",
    "    'randomForest':RandomForestClassifier()\n",
    "}\n",
    "\n",
    "scores = {} # Store cross-validation results in a dictionary\n",
    "for classifier in classifiers: \n",
    "    scores[classifier] = cross_validate( # perform cross-validation\n",
    "        classifiers[classifier], # classifier object\n",
    "        X_top_50, # feature matrix\n",
    "        y_stars, # gold labels\n",
    "        cv=10, #number of folds\n",
    "        scoring =['accuracy','precision_weighted', 'recall_weighted', 'f1_weighted', 'f1_macro', 'f1_micro'] # scoring methods\n",
    "    )\n",
    "    \n",
    "compare_scores(scores)"
   ]
  },
  {
   "cell_type": "markdown",
   "metadata": {},
   "source": [
    "### Overall a feature matrix of the top 50 features results in worse classifier performance (mean cross validated accuracy scores of 0.58 vs. 0.62 for Logit for example, the best performing algorithm regardless of feature matrix), so we continued the analysis with the full feature matrix.\n",
    "\n",
    "From here, we wanted to explore new scoring schemes. We recognize that misclassifying a 1-star review as 4-star is worse than misclassifying a 1-star review as 2-star. As such, the following code explores a new scoring scheme where classifications are correct provided they predict stars correctly or are 1 star off. To do this, we needed to train test and split the data and fit a new logistic regression algorithm to access specific predictions."
   ]
  },
  {
   "cell_type": "code",
   "execution_count": 20,
   "metadata": {},
   "outputs": [
    {
     "name": "stdout",
     "output_type": "stream",
     "text": [
      "Correct Predictions:  0.6246464646464647 = 62.5%\n"
     ]
    }
   ],
   "source": [
    "# train test split of the full feature matrix\n",
    "LogReg= LogisticRegression()\n",
    "\n",
    "X_train, X_test, y_train, y_test = train_test_split(scaled_feat_matrix_lemma, y_stars, test_size=0.33, random_state=42)\n",
    "LogReg.fit(X_train, y_train)\n",
    "preds = LogReg.predict(X_test)\n",
    "print('Correct Predictions: ', accuracy_score(y_test, preds), '= 62.5%')"
   ]
  },
  {
   "cell_type": "code",
   "execution_count": 21,
   "metadata": {},
   "outputs": [
    {
     "name": "stdout",
     "output_type": "stream",
     "text": [
      "Predictions that were correct or 1 star off:  4341 / 4950 or  87.7 %\n"
     ]
    }
   ],
   "source": [
    "count_within1 = 0\n",
    "for x,y in zip(preds, y_test):\n",
    "    if(abs(x-y) <= 1): count_within1 +=1\n",
    "    \n",
    "total = len(preds)\n",
    "\n",
    "print('Predictions that were correct or 1 star off: ', count_within1, '/', total, 'or ', round((count_within1/total) * 100, 2), '%')"
   ]
  },
  {
   "cell_type": "markdown",
   "metadata": {},
   "source": [
    "When comparing the two accuracies (62.5% vs 87.7%) we can get an idea of how closely the classifier groups many of the star ratings within one star. While this method is not the most refined, we just wanted to see how much we could improve the accuracy by relaxing what a correct classification was for this specific train test split. This is encouraging because it means that the the Logit, even when wrong, is still close to the correct class. We will not be using this method for future analysis, but it did provide useful insight. For even more detailed insight, we now take a look at a confusion matrix."
   ]
  },
  {
   "cell_type": "code",
   "execution_count": 22,
   "metadata": {},
   "outputs": [
    {
     "data": {
      "image/png": "[encoded data removed]",
      "text/plain": [
       "<Figure size 432x288 with 2 Axes>"
      ]
     },
     "metadata": {
      "needs_background": "light"
     },
     "output_type": "display_data"
    }
   ],
   "source": [
    "ConfusionMatrixDisplay.from_predictions(y_test, preds, normalize = 'true', cmap = 'RdYlGn')\n",
    "plt.title('Confusion Matrix Displaying Review Classification Success')\n",
    "plt.show()"
   ]
  },
  {
   "cell_type": "markdown",
   "metadata": {},
   "source": [
    "The confusion matrix above shows how successful our logistic regression classification was for each of the five star ratings (1-5). The ideal graph would be all 1 and green on the middle diagonal, meaning that all 1 star ratings were classified as 1, all 2 star ratings were classified as 2, and so on. However, as the confusion matrix shows, the classification was not very successful for the rating numbers 2, 3, and 4. The classifier was fairly good for predicting 1 star ratings (75% accuracy) and 5 star ratings (84% accuracy) which makes sense, because these are most likely skewed by strong language. If strong negative or positive language is used, it is likely that reviewers also associate that strong review with a decisive score (1 or 5). The middle numbers are more difficult to predict because of the subjectivity that each reviewer has when matching a star rating to a text review. The language that one user decides is a 2 star rating may be very different from the language of a different 2 star review, which affects the classifier. "
   ]
  },
  {
   "cell_type": "markdown",
   "metadata": {},
   "source": [
    "In the next blocks of code, we play around with a different \"relaxed scoring\" to try to improve accuracy. By grouping the ratings into three categories, we refine our method of counting classifications that are one star rating away in either direction. In this case, we group ratings of 1 and 2 as \"bad\", 3 as \"okay\", and 4 and 5 as \"good\". As shown below, the accuracy improves relative to strict scoring, but is still not quite as good as the 1 star off method above."
   ]
  },
  {
   "cell_type": "code",
   "execution_count": 23,
   "metadata": {},
   "outputs": [],
   "source": [
    "y_test_3cls = ['Bad' if x in [1,2] else ('Okay' if x == 3 else 'Good') for x in y_test]\n",
    "preds_3cls  = ['Bad' if x in [1,2] else ('Okay' if x == 3 else 'Good') for x in preds]"
   ]
  },
  {
   "cell_type": "code",
   "execution_count": 24,
   "metadata": {},
   "outputs": [
    {
     "name": "stdout",
     "output_type": "stream",
     "text": [
      "Accuracy According to Relaxed Scoring Scheme:  0.8072727272727273\n"
     ]
    }
   ],
   "source": [
    "print(\"Accuracy According to Relaxed Scoring Scheme: \", sum(np.array([1 if x==y else 0 for x,y in zip(y_test_3cls, preds_3cls)])) / total)"
   ]
  },
  {
   "cell_type": "code",
   "execution_count": 25,
   "metadata": {},
   "outputs": [
    {
     "data": {
      "image/png": "[encoded data removed]",
      "text/plain": [
       "<Figure size 432x288 with 2 Axes>"
      ]
     },
     "metadata": {
      "needs_background": "light"
     },
     "output_type": "display_data"
    }
   ],
   "source": [
    "ConfusionMatrixDisplay.from_predictions(y_test_3cls, preds_3cls, normalize = 'true', cmap = 'RdYlGn')\n",
    "plt.title('Confusion Matrix Displaying Classification Success According to Relaxed Scoring Scheme')\n",
    "plt.show()"
   ]
  },
  {
   "cell_type": "markdown",
   "metadata": {},
   "source": [
    "The confusion matrix above shows how successful our logistic regression classification was after creating three groups of ratings.\n",
    "- The \"good\" group has the highest accuracy, meaning the classifier was able to identify 4 and 5 star ratings based on the text review very well (91% of the time). This makes sense because positive sentiments more easily and readily align with 4 and 5 star ratings. \n",
    "- The accuracy of the \"bad\" group is not as good, the classifier performed better when just classifying 1 star ratings (see earlier confusion matrix). This is surprising because grouping 4 and 5 star ratings helped, but grouping 1 and 2 star ratings. This seems to be because 4 star ratings are more often confused with 5 star ratings than 2 star ratings are confused with 1 star ratings. This could have to do with the bias in the original dataset, where there are tons of 5 star ratings relative to 2 star ratings (7k vs 1k).\n",
    "- The \"okay\" category performs poorly, which makes sense for two reasons. First, because it only includes one star rating (3), there is a smaller successful \"target area\" that the classifier will succeed in. Second, and to us more insightful, is again the idea that medium reviews are more likely to span different number ratings.\n",
    "\n",
    "To explore further, we could group 2 and 3 together as \"okay\" and have 1 star be the \"bad\" category.\n",
    "\n",
    "\n",
    "As a final attempt to raise accuracy, below I re-vectorized with max_df initialized to 0.5, to see whether limiting to lemmas present in a maximum of 50% of reviews would provide a better tuned feature matrix."
   ]
  },
  {
   "cell_type": "markdown",
   "metadata": {},
   "source": [
    "### Adjusted Vectorizer attempt"
   ]
  },
  {
   "cell_type": "code",
   "execution_count": 26,
   "metadata": {
    "tags": []
   },
   "outputs": [
    {
     "name": "stdout",
     "output_type": "stream",
     "text": [
      "Wall time: 9min 40s\n"
     ]
    }
   ],
   "source": [
    "## saved this file to avoid rerunning every time\n",
    "\n",
    "##%%time\n",
    "\n",
    "### making tf-idf vectorizer with lemmas\n",
    "##lemma_vectorizer_2 = TfidfVectorizer(\n",
    "##    input = 'content',\n",
    "##    encoding = 'utf-8',\n",
    "##    strip_accents = 'unicode',\n",
    "##    lowercase = True,\n",
    "##    tokenizer = lemmatizer,\n",
    "##    min_df = 0.05,\n",
    "##    max_df = 0.5,\n",
    "##    use_idf=True\n",
    "##)\n",
    "##\n",
    "##raw_lemma_2 = lemma_vectorizer_2.fit_transform(reviews['text'])"
   ]
  },
  {
   "cell_type": "code",
   "execution_count": 27,
   "metadata": {},
   "outputs": [],
   "source": [
    "#with open('X_raw_lemma_2.pickle', 'wb') as f:\n",
    "#    pickle.dump(raw_lemma_2, f)"
   ]
  },
  {
   "cell_type": "code",
   "execution_count": 29,
   "metadata": {},
   "outputs": [],
   "source": [
    "raw_lemma_2 = pd.read_pickle(r'X_raw_lemma_2.pickle')"
   ]
  },
  {
   "cell_type": "code",
   "execution_count": 30,
   "metadata": {},
   "outputs": [
    {
     "name": "stdout",
     "output_type": "stream",
     "text": [
      "Shape of feature matrix:  (14997, 225)\n"
     ]
    }
   ],
   "source": [
    "# scaling the vector\n",
    "scaler = StandardScaler()\n",
    "scaled_feat_matrix_lemma_2 = scaler.fit_transform(raw_lemma_2.toarray())\n",
    "print('Shape of feature matrix: ', scaled_feat_matrix_lemma_2.shape)"
   ]
  },
  {
   "cell_type": "markdown",
   "metadata": {},
   "source": [
    "This is very smiliar to the size of the last full feature matrix, it simply has 12 fewer columns. This makes me think that perhaps this method may not have actually changed much."
   ]
  },
  {
   "cell_type": "code",
   "execution_count": 31,
   "metadata": {
    "tags": []
   },
   "outputs": [
    {
     "data": {
      "text/html": [
       "<style type=\"text/css\">\n",
       "#T_3ab35_row0_col0, #T_3ab35_row0_col1, #T_3ab35_row0_col2, #T_3ab35_row0_col3, #T_3ab35_row0_col4, #T_3ab35_row0_col5, #T_3ab35_row0_col6, #T_3ab35_row0_col7, #T_3ab35_row1_col0, #T_3ab35_row2_col1, #T_3ab35_row3_col1 {\n",
       "  background-color: #a50026;\n",
       "  color: #f1f1f1;\n",
       "}\n",
       "#T_3ab35_row1_col1, #T_3ab35_row2_col2, #T_3ab35_row2_col3, #T_3ab35_row2_col4, #T_3ab35_row2_col5, #T_3ab35_row2_col6, #T_3ab35_row2_col7, #T_3ab35_row4_col0 {\n",
       "  background-color: #006837;\n",
       "  color: #f1f1f1;\n",
       "}\n",
       "#T_3ab35_row1_col2, #T_3ab35_row1_col4, #T_3ab35_row1_col7 {\n",
       "  background-color: #c1e57b;\n",
       "  color: #000000;\n",
       "}\n",
       "#T_3ab35_row1_col3 {\n",
       "  background-color: #fff1a8;\n",
       "  color: #000000;\n",
       "}\n",
       "#T_3ab35_row1_col5 {\n",
       "  background-color: #fede89;\n",
       "  color: #000000;\n",
       "}\n",
       "#T_3ab35_row1_col6 {\n",
       "  background-color: #f98e52;\n",
       "  color: #f1f1f1;\n",
       "}\n",
       "#T_3ab35_row2_col0 {\n",
       "  background-color: #ca2427;\n",
       "  color: #f1f1f1;\n",
       "}\n",
       "#T_3ab35_row3_col0 {\n",
       "  background-color: #f67c4a;\n",
       "  color: #f1f1f1;\n",
       "}\n",
       "#T_3ab35_row3_col2, #T_3ab35_row3_col4, #T_3ab35_row3_col7 {\n",
       "  background-color: #feffbe;\n",
       "  color: #000000;\n",
       "}\n",
       "#T_3ab35_row3_col3 {\n",
       "  background-color: #e6f59d;\n",
       "  color: #000000;\n",
       "}\n",
       "#T_3ab35_row3_col5 {\n",
       "  background-color: #ecf7a6;\n",
       "  color: #000000;\n",
       "}\n",
       "#T_3ab35_row3_col6 {\n",
       "  background-color: #e8f59f;\n",
       "  color: #000000;\n",
       "}\n",
       "#T_3ab35_row4_col1 {\n",
       "  background-color: #ce2827;\n",
       "  color: #f1f1f1;\n",
       "}\n",
       "#T_3ab35_row4_col2, #T_3ab35_row4_col4, #T_3ab35_row4_col7 {\n",
       "  background-color: #1e9a51;\n",
       "  color: #f1f1f1;\n",
       "}\n",
       "#T_3ab35_row4_col3 {\n",
       "  background-color: #93d168;\n",
       "  color: #000000;\n",
       "}\n",
       "#T_3ab35_row4_col5 {\n",
       "  background-color: #afdd70;\n",
       "  color: #000000;\n",
       "}\n",
       "#T_3ab35_row4_col6 {\n",
       "  background-color: #fafdb8;\n",
       "  color: #000000;\n",
       "}\n",
       "</style>\n",
       "<table id=\"T_3ab35_\">\n",
       "  <thead>\n",
       "    <tr>\n",
       "      <th class=\"blank level0\" >&nbsp;</th>\n",
       "      <th class=\"col_heading level0 col0\" >fit_time</th>\n",
       "      <th class=\"col_heading level0 col1\" >score_time</th>\n",
       "      <th class=\"col_heading level0 col2\" >test_accuracy</th>\n",
       "      <th class=\"col_heading level0 col3\" >test_precision_weighted</th>\n",
       "      <th class=\"col_heading level0 col4\" >test_recall_weighted</th>\n",
       "      <th class=\"col_heading level0 col5\" >test_f1_weighted</th>\n",
       "      <th class=\"col_heading level0 col6\" >test_f1_macro</th>\n",
       "      <th class=\"col_heading level0 col7\" >test_f1_micro</th>\n",
       "    </tr>\n",
       "  </thead>\n",
       "  <tbody>\n",
       "    <tr>\n",
       "      <th id=\"T_3ab35_level0_row0\" class=\"row_heading level0 row0\" >Baseline</th>\n",
       "      <td id=\"T_3ab35_row0_col0\" class=\"data row0 col0\" >0.015039</td>\n",
       "      <td id=\"T_3ab35_row0_col1\" class=\"data row0 col1\" >0.018689</td>\n",
       "      <td id=\"T_3ab35_row0_col2\" class=\"data row0 col2\" >0.304261</td>\n",
       "      <td id=\"T_3ab35_row0_col3\" class=\"data row0 col3\" >0.302782</td>\n",
       "      <td id=\"T_3ab35_row0_col4\" class=\"data row0 col4\" >0.304261</td>\n",
       "      <td id=\"T_3ab35_row0_col5\" class=\"data row0 col5\" >0.303410</td>\n",
       "      <td id=\"T_3ab35_row0_col6\" class=\"data row0 col6\" >0.202333</td>\n",
       "      <td id=\"T_3ab35_row0_col7\" class=\"data row0 col7\" >0.304261</td>\n",
       "    </tr>\n",
       "    <tr>\n",
       "      <th id=\"T_3ab35_level0_row1\" class=\"row_heading level0 row1\" >kNN</th>\n",
       "      <td id=\"T_3ab35_row1_col0\" class=\"data row1 col0\" >0.020565</td>\n",
       "      <td id=\"T_3ab35_row1_col1\" class=\"data row1 col1\" >1.066254</td>\n",
       "      <td id=\"T_3ab35_row1_col2\" class=\"data row1 col2\" >0.501700</td>\n",
       "      <td id=\"T_3ab35_row1_col3\" class=\"data row1 col3\" >0.425770</td>\n",
       "      <td id=\"T_3ab35_row1_col4\" class=\"data row1 col4\" >0.501700</td>\n",
       "      <td id=\"T_3ab35_row1_col5\" class=\"data row1 col5\" >0.414526</td>\n",
       "      <td id=\"T_3ab35_row1_col6\" class=\"data row1 col6\" >0.267269</td>\n",
       "      <td id=\"T_3ab35_row1_col7\" class=\"data row1 col7\" >0.501700</td>\n",
       "    </tr>\n",
       "    <tr>\n",
       "      <th id=\"T_3ab35_level0_row2\" class=\"row_heading level0 row2\" >Logit</th>\n",
       "      <td id=\"T_3ab35_row2_col0\" class=\"data row2 col0\" >1.015093</td>\n",
       "      <td id=\"T_3ab35_row2_col1\" class=\"data row2 col1\" >0.021529</td>\n",
       "      <td id=\"T_3ab35_row2_col2\" class=\"data row2 col2\" >0.609987</td>\n",
       "      <td id=\"T_3ab35_row2_col3\" class=\"data row2 col3\" >0.572022</td>\n",
       "      <td id=\"T_3ab35_row2_col4\" class=\"data row2 col4\" >0.609987</td>\n",
       "      <td id=\"T_3ab35_row2_col5\" class=\"data row2 col5\" >0.582478</td>\n",
       "      <td id=\"T_3ab35_row2_col6\" class=\"data row2 col6\" >0.460732</td>\n",
       "      <td id=\"T_3ab35_row2_col7\" class=\"data row2 col7\" >0.609987</td>\n",
       "    </tr>\n",
       "    <tr>\n",
       "      <th id=\"T_3ab35_level0_row3\" class=\"row_heading level0 row3\" >decisionTree</th>\n",
       "      <td id=\"T_3ab35_row3_col0\" class=\"data row3 col0\" >2.924698</td>\n",
       "      <td id=\"T_3ab35_row3_col1\" class=\"data row3 col1\" >0.021045</td>\n",
       "      <td id=\"T_3ab35_row3_col2\" class=\"data row3 col2\" >0.458092</td>\n",
       "      <td id=\"T_3ab35_row3_col3\" class=\"data row3 col3\" >0.454936</td>\n",
       "      <td id=\"T_3ab35_row3_col4\" class=\"data row3 col4\" >0.458092</td>\n",
       "      <td id=\"T_3ab35_row3_col5\" class=\"data row3 col5\" >0.456261</td>\n",
       "      <td id=\"T_3ab35_row3_col6\" class=\"data row3 col6\" >0.347424</td>\n",
       "      <td id=\"T_3ab35_row3_col7\" class=\"data row3 col7\" >0.458092</td>\n",
       "    </tr>\n",
       "    <tr>\n",
       "      <th id=\"T_3ab35_level0_row4\" class=\"row_heading level0 row4\" >randomForest</th>\n",
       "      <td id=\"T_3ab35_row4_col0\" class=\"data row4 col0\" >12.992407</td>\n",
       "      <td id=\"T_3ab35_row4_col1\" class=\"data row4 col1\" >0.106603</td>\n",
       "      <td id=\"T_3ab35_row4_col2\" class=\"data row4 col2\" >0.576981</td>\n",
       "      <td id=\"T_3ab35_row4_col3\" class=\"data row4 col3\" >0.499353</td>\n",
       "      <td id=\"T_3ab35_row4_col4\" class=\"data row4 col4\" >0.576981</td>\n",
       "      <td id=\"T_3ab35_row4_col5\" class=\"data row4 col5\" >0.493587</td>\n",
       "      <td id=\"T_3ab35_row4_col6\" class=\"data row4 col6\" >0.335510</td>\n",
       "      <td id=\"T_3ab35_row4_col7\" class=\"data row4 col7\" >0.576981</td>\n",
       "    </tr>\n",
       "  </tbody>\n",
       "</table>\n"
      ],
      "text/plain": [
       "<pandas.io.formats.style.Styler at 0x2e5886bcd30>"
      ]
     },
     "execution_count": 31,
     "metadata": {},
     "output_type": "execute_result"
    }
   ],
   "source": [
    "# Classifers to test\n",
    "classifiers = {\n",
    "    'Baseline': DummyClassifier(strategy = 'stratified'),\n",
    "    'kNN': KNeighborsClassifier(),\n",
    "    'Logit':LogisticRegression(),\n",
    "    'decisionTree': DecisionTreeClassifier(),\n",
    "    'randomForest':RandomForestClassifier()\n",
    "}\n",
    "\n",
    "scores = {} # Store cross-validation results in a dictionary\n",
    "for classifier in classifiers: \n",
    "    scores[classifier] = cross_validate( # perform cross-validation\n",
    "        classifiers[classifier], # classifier object\n",
    "        scaled_feat_matrix_lemma_2, # feature matrix\n",
    "        y_stars, # gold labels\n",
    "        cv=10, #number of folds\n",
    "        scoring=['accuracy','precision_weighted', 'recall_weighted', 'f1_weighted', 'f1_macro', 'f1_micro'] # scoring methods\n",
    "    )\n",
    "    \n",
    "compare_scores(scores)"
   ]
  },
  {
   "cell_type": "markdown",
   "metadata": {},
   "source": [
    "Unfortunately, accuracy score stayed roughly the same across all classifiers. Limiting to lemmas in 50% of documents did not help!"
   ]
  },
  {
   "cell_type": "markdown",
   "metadata": {},
   "source": [
    "## Sentiment Score Section\n",
    "\n",
    "Next, we used sentiment scoring as another method to try improving our classification. While sentiment scoring was something we learned early in the course and were hesitant to use on the final project, we decided to use it because it related so closely to the topic of reviews and associated ratings, which are at their most basic level an expression of feelings. The following few cells build sentiment columns into the existing review dataframe, and calculate average review sentiment using the emolex file we became familiar with during the semester. We take average sentence sentiment, and then average that to get review sentiment."
   ]
  },
  {
   "cell_type": "code",
   "execution_count": null,
   "metadata": {},
   "outputs": [],
   "source": [
    "#### Adding sentiment score columns\n",
    "size = len(reviews)\n",
    "\n",
    "reviews['anger'] = np.zeros(size)\n",
    "reviews['anticipation'] = np.zeros(size)\n",
    "reviews['disgust'] = np.zeros(size)\n",
    "reviews['fear'] = np.zeros(size)\n",
    "reviews['joy'] = np.zeros(size)\n",
    "reviews['negative'] = np.zeros(size)\n",
    "reviews['positive'] = np.zeros(size)\n",
    "reviews['sadness'] = np.zeros(size)\n",
    "reviews['surprise'] = np.zeros(size)\n",
    "reviews['trust'] = np.zeros(size)"
   ]
  },
  {
   "cell_type": "code",
   "execution_count": null,
   "metadata": {},
   "outputs": [],
   "source": [
    "# Making stopwords list\n",
    "stoplist = stopwords.words('english')\n",
    "for el in [i for i in string.punctuation]:\n",
    "    stoplist.append(el)"
   ]
  },
  {
   "cell_type": "code",
   "execution_count": null,
   "metadata": {},
   "outputs": [],
   "source": [
    "# read_emolex function from INFO 3350 problem set code\n",
    "emolex_file = os.path.join('emolex.txt')\n",
    "\n",
    "def read_emolex(filepath=None):\n",
    "    '''\n",
    "    Takes a file path to the emolex lexicon file.\n",
    "    Returns a dictionary of emolex sentiment values.\n",
    "    '''\n",
    "    if filepath==None: # Try to find the emolex file\n",
    "        filepath = os.path.join('emolex.txt')\n",
    "        if os.path.isfile(filepath):\n",
    "            pass\n",
    "        elif os.path.isfile('emolex.txt'):\n",
    "            filepath = 'emolex.txt'\n",
    "        else:\n",
    "            raise FileNotFoundError('No EmoLex file found')\n",
    "    emolex = defaultdict(dict) # Like Counter(), defaultdict eases dictionary creation\n",
    "    with open(filepath, 'r') as f:\n",
    "    # emolex file format is: word emotion value\n",
    "        for line in f:\n",
    "            word, emotion, value = line.strip().split()\n",
    "            emolex[word][emotion] = int(value)\n",
    "    return emolex\n",
    "\n",
    "# Get EmoLex data. Make sure you set the right file path above.\n",
    "emolex = read_emolex(emolex_file)"
   ]
  },
  {
   "cell_type": "code",
   "execution_count": null,
   "metadata": {},
   "outputs": [],
   "source": [
    "# tokenize_text from INFO 3350 problem set code\n",
    "def tokenize_text(text, stops=[]):\n",
    "    sentences = []\n",
    "    for sent in sent_tokenize(text.lower()):\n",
    "        sentences.append([word for word in word_tokenize(sent) if word not in stops])\n",
    "        \n",
    "    return sentences\n",
    "\n",
    "# sentence_sentiment_score from INFO 3350 problem set code\n",
    "def sentence_sentiment_score(toks, lexicon = emolex):\n",
    "    total = 0\n",
    "    emo_dict = defaultdict(lambda: 0)\n",
    "    \n",
    "    emotions = ['anger', 'anticipation','disgust','fear','joy','negative','positive','sadness','surprise', 'trust']\n",
    "    \n",
    "    \n",
    "    for word in toks:\n",
    "            total += 1\n",
    "            for emotion in emotions:\n",
    "                try:\n",
    "                    emo_dict[emotion] += lexicon[word][emotion]\n",
    "                except:\n",
    "                    continue\n",
    "    \n",
    "    for emotion in emotions:\n",
    "        if total > 0:\n",
    "            emo_dict[emotion] /= total\n",
    "        \n",
    "    return emo_dict"
   ]
  },
  {
   "cell_type": "code",
   "execution_count": null,
   "metadata": {},
   "outputs": [],
   "source": [
    "def book_sentiment_df_update(sentence_dicts, df, index):\n",
    "    \n",
    "    reviewdict = dict({'anger': 0 , 'anticipation': 0,'disgust': 0,'fear': 0,'joy': 0,'negative': 0,'positive': 0,'sadness': 0,'surprise': 0, 'trust': 0})\n",
    "    \n",
    "    for sentence_dict in sentence_dicts:\n",
    "        for emotion in sentence_dict:\n",
    "            reviewdict[emotion] += sentence_dict[emotion]\n",
    "    \n",
    "    for emotion in reviewdict.keys():\n",
    "        reviewdict[emotion] /= len(sentence_dicts)\n",
    "        df.at[index, emotion] = reviewdict[emotion]\n",
    "    \n",
    "    return None  "
   ]
  },
  {
   "cell_type": "code",
   "execution_count": null,
   "metadata": {},
   "outputs": [],
   "source": [
    "%%time\n",
    "\n",
    "for index, reviewtext in enumerate(reviews['text']):\n",
    "    sentence_dicts = []\n",
    "    for sentence in tokenize_text(reviewtext, stops=stoplist):\n",
    "        sentence_dicts.append(sentence_sentiment_score(sentence))\n",
    "    book_sentiment_df_update(sentence_dicts, reviews, index)"
   ]
  },
  {
   "cell_type": "code",
   "execution_count": null,
   "metadata": {
    "tags": []
   },
   "outputs": [],
   "source": [
    "## data frame with sentiment scores added\n",
    "reviews.head()"
   ]
  },
  {
   "cell_type": "code",
   "execution_count": null,
   "metadata": {},
   "outputs": [],
   "source": [
    "grouped_sent = reviews.groupby(['stars']).mean()\\\n",
    "[['anger','anticipation','disgust','fear','joy','negative','positive','sadness','surprise', 'trust']]"
   ]
  },
  {
   "cell_type": "code",
   "execution_count": null,
   "metadata": {},
   "outputs": [],
   "source": [
    "print(\"Average Emotion scores of each star rating\")\n",
    "print(\"Column by Column Coloring: Green Indicates it is the highest value in that column\")\n",
    "grouped_sent.style.background_gradient(cmap='RdYlGn', axis = 0)"
   ]
  },
  {
   "cell_type": "markdown",
   "metadata": {},
   "source": [
    "The colorful graph above is helpful in understanding how well mean sentiment scores align with star ratings. We were pleasantly surprised by this graph.\n",
    "\n",
    "This graph is meant to be read column by column. The highest values in each column are colored green, and the lowest colored red.\n",
    "\n",
    "Looking down the columns for each sentiment, we see just what we would expect:\n",
    "- The \"bad\" emotions (anger, disgust, fear, negative, sadness) are on average highest in 1 star ratings and lowest in 5 star ratings. Not only this, but there is a perfect gradient of decreasing average score for these sentiments as you look from 1 star to 5 star ratings. \n",
    "- Similarly, for the \"good\" sentiments (joy, positive, trust), we see the opposite. 5 star ratings have highest average scores, and 1 star ratings have lowest average scores, with perfect gradients.\n",
    "\n",
    "This graph indicates to us that the sentiment analysis we did worked well on aggregate, and that on average, negative emotions are most associated with 1 star review, and positiove emotions are most associated with 5-star reviews. This gave us hope that our classifiers would do quite well!"
   ]
  },
  {
   "cell_type": "code",
   "execution_count": null,
   "metadata": {},
   "outputs": [],
   "source": [
    "train_df = reviews[['anger','anticipation','disgust','fear','joy','negative','positive','sadness','surprise', 'trust']]"
   ]
  },
  {
   "cell_type": "code",
   "execution_count": null,
   "metadata": {
    "tags": []
   },
   "outputs": [],
   "source": [
    "# Classifers to test\n",
    "classifiers = {\n",
    "    'Baseline': DummyClassifier(strategy = 'stratified'),\n",
    "    'kNN': KNeighborsClassifier(),\n",
    "    'Logit':LogisticRegression(max_iter = 200),\n",
    "    'decisionTree': DecisionTreeClassifier(),\n",
    "    'randomForest':RandomForestClassifier()\n",
    "}\n",
    "\n",
    "scores = {} # Store cross-validation results in a dictionary\n",
    "for classifier in classifiers: \n",
    "    scores[classifier] = cross_validate( # perform cross-validation\n",
    "        classifiers[classifier], # classifier object\n",
    "        train_df, # feature matrix\n",
    "        y_stars, # gold labels\n",
    "        cv=10, #number of folds\n",
    "        scoring=['accuracy','precision_weighted', 'recall_weighted', 'f1_weighted', 'f1_macro', 'f1_micro'] # scoring methods\n",
    "    )\n",
    "    \n",
    "compare_scores(scores)"
   ]
  },
  {
   "cell_type": "markdown",
   "metadata": {},
   "source": [
    "### Accuracy and f1 scores were worse across the board relative to when we used the same classifiers with a tfidf lemma matrix.\n",
    "This method resulted in just a 20% lift above baseline accuracy for the best performing algorithm, the Logit classifier. We moved on to looking at a relaxed scoring scheme and confusion matrix for more insight into why."
   ]
  },
  {
   "cell_type": "code",
   "execution_count": null,
   "metadata": {},
   "outputs": [],
   "source": [
    "LogReg= LogisticRegression(max_iter=200)\n",
    "X_train, X_test, y_train, y_test = train_test_split(train_df, y_stars, test_size=0.33, random_state=42)\n",
    "LogReg.fit(X_train, y_train)\n",
    "preds = LogReg.predict(X_test)"
   ]
  },
  {
   "cell_type": "code",
   "execution_count": null,
   "metadata": {},
   "outputs": [],
   "source": [
    "count_within1 = 0\n",
    "for x,y in zip(preds, y_test):\n",
    "    if(abs(x-y) <= 1): count_within1 +=1\n",
    "\n",
    "print('Predictions that were correct or 1 star off: ', count_within1, '/', total, 'or ', round((count_within1/total) * 100, 2), '%')"
   ]
  },
  {
   "cell_type": "markdown",
   "metadata": {},
   "source": [
    "The 1-star off scoring method improved accuracy score by a lot again, but it is still 15% lower than it was with the tfidf lemma feature matrix."
   ]
  },
  {
   "cell_type": "code",
   "execution_count": null,
   "metadata": {},
   "outputs": [],
   "source": [
    "ConfusionMatrixDisplay.from_predictions(y_test, preds, normalize = 'true', cmap = 'RdYlGn')\n",
    "plt.title('Confusion Matrix Displaying Classification Success')\n",
    "plt.show()"
   ]
  },
  {
   "cell_type": "code",
   "execution_count": null,
   "metadata": {},
   "outputs": [],
   "source": [
    "y_test_3cls = ['Bad' if x in [1,2] else ('Okay' if x == 3 else 'Good') for x in y_test]\n",
    "preds_3cls  = ['Bad' if x in [1,2] else ('Okay' if x == 3 else 'Good') for x in preds]\n",
    "print(\"Accuracy According to Relaxed Scoring Scheme: \", sum(np.array([1 if x==y else 0 for x,y in zip(y_test_3cls, preds_3cls)])) / total)\n",
    "ConfusionMatrixDisplay.from_predictions(y_test_3cls, preds_3cls, normalize = 'true', cmap = 'RdYlGn')\n",
    "plt.title('Confusion Matrix Displaying Classification Success According to Relaxed Scoring Scheme')\n",
    "plt.show()"
   ]
  },
  {
   "cell_type": "markdown",
   "metadata": {},
   "source": [
    "As mentioned above, because we had a well-aligned average sentiment score by star-rating chart, we thought using average review sentiment score would result in more successful classification. However, the above scores revealed that did not turn out to be the case. The two confusion matrices above, using two different scoring schemes, begin to show us why sentiment score did not perform well.\n",
    "\n",
    "The main conclusion here is that an overwhelming majority of reviews were being classified as 5 star, a few as 1 star, and none/almost none as 2, 3, or 4 stars. \n",
    "\n",
    "We believe the main reason 5 star reviews were so overrepresented in the predictions is because the 5 star reviews are over represented in the original dataset; almost half of the 15k reviews (7k) were 5-star.\n",
    "\n",
    "That being said, the same was true in the tfidf lemma feature matrix which performed much better, so we knew there must be another reason.\n",
    "\n",
    "After some thought, we realized that a lack of sentiment in many reviews could have resulted in a non-informative feature matrix, which made the algorithms so suscpetible to the bias in the initial set of reviews. While avergae sentiment across 1-5 star reviews was informative, individual reviews may not have had much sentiment. If there are only a couple of emotions scored per review, the classifier will not have enough information to properly asses each review. The averages may have clouded this aspect of the data, and the averages could have been skewed by some very aggressively positive or negative reviews at either end of the spectrum.\n",
    "\n",
    "Below, we look at the negativity and positive scores of the most negative and most positive reviews, and select the text from one of them."
   ]
  },
  {
   "cell_type": "code",
   "execution_count": null,
   "metadata": {},
   "outputs": [],
   "source": [
    "reviews['negative'].nlargest(n=3)"
   ]
  },
  {
   "cell_type": "code",
   "execution_count": null,
   "metadata": {},
   "outputs": [],
   "source": [
    "reviews['positive'].nlargest(n=3)"
   ]
  },
  {
   "cell_type": "code",
   "execution_count": null,
   "metadata": {},
   "outputs": [],
   "source": [
    "reviews.iloc[6346].text, reviews.iloc[146].positive"
   ]
  },
  {
   "cell_type": "markdown",
   "metadata": {},
   "source": [
    "The highest average positivity score was around 0.15 for 5-star reviews, and the highest average negativity score was around 0.08 for 1-star reviews. The positivity and negativity scores above confirm our suspicion that some very positive and negative reviews may have skewing the avergaes, which gave us hope for good classification performance. The example text and positivity score shows how this could happen; short reviews and sentences with a high concentration of positive words gives very high average positivity.\n",
    "\n",
    "Below, we look at some more informative statistics on the distribution of sentiment scores."
   ]
  },
  {
   "cell_type": "code",
   "execution_count": null,
   "metadata": {},
   "outputs": [],
   "source": [
    "train_df.describe()"
   ]
  },
  {
   "cell_type": "markdown",
   "metadata": {},
   "source": [
    "This chart above shows that sentiment scores across all reviews are dominated by scores of zero in many cases, and in other cases have slightly fewer zeros but tiny standard deviations. The dominance of completely uninformative zeros in the dataset, paired with very small variation in scores that are nonzero makes us think that these characteristics made the feature matrix poor, resulting in low accuracy scores across all classifiers.\n",
    "\n",
    "Below, I implement word embeddings, which are sort of a more complex version of sentiment analysis. They turn each word into a 300 component long vector, and then average the words in each review to get the mean review for the vector. I am hoping that the larger number of compoenents in embeddings relative to the above sentiment analysis (300 vs 10) will help accuracy."
   ]
  },
  {
   "cell_type": "markdown",
   "metadata": {
    "tags": []
   },
   "source": [
    "# Embedding attempt"
   ]
  },
  {
   "cell_type": "code",
   "execution_count": null,
   "metadata": {
    "tags": []
   },
   "outputs": [],
   "source": [
    "#Helper functions from p_08 answer key\n",
    "\n",
    "# Function(s) to calculate embeddings from text\n",
    "def remove_noninformative_tokens(doc):\n",
    "    '''\n",
    "    Takes a spacy-processed document.\n",
    "    Returns a list of spacy token objects without stopwords, punctuation, or embedding-less tokens.\n",
    "    '''\n",
    "    culled = [token for token in doc if not (token.is_stop or token.is_punct or token.is_space) and token.has_vector]\n",
    "    return(culled)\n",
    "\n",
    "def get_doc_embedding(text, nlp):\n",
    "    '''\n",
    "    Takes a document as a text string and a loaded spaCy nlp object.\n",
    "    Returns a vector representation of the document.\n",
    "    '''\n",
    "    doc = nlp(text)\n",
    "    culled = remove_noninformative_tokens(doc)\n",
    "    embedding = np.mean([token.vector for token in culled], axis=0)\n",
    "    if np.isnan(embedding).any():\n",
    "        embedding = np.zeros([1,nlp.vocab.vectors_length])\n",
    "        print(f\"There was a problem with document {i}\\nText: {text}\\n\")\n",
    "    return(embedding)"
   ]
  },
  {
   "cell_type": "code",
   "execution_count": null,
   "metadata": {
    "tags": []
   },
   "outputs": [],
   "source": [
    "## This was run once and then commented out because after creating the embeddings, we saved the file to avoid running this cell again,\n",
    "## because it takes a while to run.\n",
    "\n",
    "\n",
    "### %%time\n",
    "### # Vectorize embeddings\n",
    "### import spacy\n",
    "### import datetime\n",
    "### nlp = spacy.load(\"en_core_web_lg\")\n",
    "### \n",
    "### X_embed = np.zeros([len(reviews), nlp.vocab.vectors_length])\n",
    "### for i, text in enumerate(reviews.text):\n",
    "###     if i%1000 == 0:\n",
    "###         print(f'{i:<5} documents processed @ {datetime.datetime.now()}')\n",
    "###     X_embed[i] = get_doc_embedding(text, nlp)\n",
    "### print(X_embed.shape)"
   ]
  },
  {
   "cell_type": "code",
   "execution_count": null,
   "metadata": {
    "tags": []
   },
   "outputs": [],
   "source": [
    "##with open('X_embed.pickle', 'wb') as f:\n",
    "##    pickle.dump(X_embed, f)"
   ]
  },
  {
   "cell_type": "code",
   "execution_count": null,
   "metadata": {},
   "outputs": [],
   "source": [
    "X_embed = pd.read_pickle(r'X_embed.pickle')"
   ]
  },
  {
   "cell_type": "code",
   "execution_count": null,
   "metadata": {
    "tags": []
   },
   "outputs": [],
   "source": [
    "# Classifers to test\n",
    "classifiers = {\n",
    "    'Baseline': DummyClassifier(strategy = 'stratified'),\n",
    "    'kNN': KNeighborsClassifier(),\n",
    "    'Logit':LogisticRegression(max_iter = 500),\n",
    "    'decisionTree': DecisionTreeClassifier(),\n",
    "    'randomForest':RandomForestClassifier()\n",
    "}\n",
    "\n",
    "scores = {} # Store cross-validation results in a dictionary\n",
    "for classifier in classifiers:\n",
    "    print(f'{classifier} starting @ {datetime.datetime.now()}')\n",
    "    scores[classifier] = cross_validate( # perform cross-validation\n",
    "        classifiers[classifier], # classifier object\n",
    "        X_embed, # feature matrix\n",
    "        y_stars, # gold labels\n",
    "        cv=10, #number of folds\n",
    "        scoring=['accuracy','precision_weighted', 'recall_weighted', 'f1_weighted', 'f1_macro', 'f1_micro'] # scoring methods\n",
    "    )\n",
    "    \n",
    "compare_scores(scores)"
   ]
  },
  {
   "cell_type": "markdown",
   "metadata": {},
   "source": [
    "## Here we see that word embeddings resuted in improved accuracy and f1 across the board. Logit still scored the best, with an accuracy of 63.9% the best accuracy we have seen thus far!\n",
    "\n",
    "Though it is only a small lift over the tfidf lemma matrix, it is a large increase relative to averaged sentence sentiment. Below, please see the relaxed scoring methods we have used for other feature matrices again."
   ]
  },
  {
   "cell_type": "code",
   "execution_count": null,
   "metadata": {},
   "outputs": [],
   "source": [
    "# train test split of the full feature matrix\n",
    "LogReg= LogisticRegression(max_iter = 500)\n",
    "\n",
    "X_train, X_test, y_train, y_test = train_test_split(X_embed, y_stars, test_size=0.33, random_state=42)\n",
    "LogReg.fit(X_train, y_train)\n",
    "preds = LogReg.predict(X_test)\n",
    "print('Correct Predictions: ', accuracy_score(y_test, preds), '= 64.2%')\n",
    "\n",
    "count_within1 = 0\n",
    "for x,y in zip(preds, y_test):\n",
    "    if(abs(x-y) <= 1): count_within1 +=1\n",
    "    \n",
    "total = len(preds)\n",
    "\n",
    "print('Predictions that were correct or 1 star off: ', count_within1, '/', total, 'or ', round((count_within1/total) * 100, 2), '%')\n",
    "\n",
    "y_test_3cls = ['Bad' if x in [1,2] else ('Okay' if x == 3 else 'Good') for x in y_test]\n",
    "preds_3cls  = ['Bad' if x in [1,2] else ('Okay' if x == 3 else 'Good') for x in preds]\n",
    "print(\"Accuracy According to Relaxed 3-class Scoring Scheme: \", round(sum(np.array([1 if x==y else 0 for x,y in zip(y_test_3cls, preds_3cls)])) / total, 4)*100, '%')"
   ]
  },
  {
   "cell_type": "code",
   "execution_count": null,
   "metadata": {},
   "outputs": [],
   "source": [
    "ConfusionMatrixDisplay.from_predictions(y_test, preds, normalize = 'true', cmap = 'RdYlGn')\n",
    "plt.title('Confusion Matrix Displaying Review Classification Success')\n",
    "plt.show()"
   ]
  },
  {
   "cell_type": "code",
   "execution_count": null,
   "metadata": {},
   "outputs": [],
   "source": [
    "ConfusionMatrixDisplay.from_predictions(y_test_3cls, preds_3cls, normalize = 'true', cmap = 'RdYlGn')\n",
    "plt.title('Confusion Matrix Displaying Classification Success According to Relaxed Scoring Scheme')\n",
    "plt.show()"
   ]
  },
  {
   "cell_type": "markdown",
   "metadata": {},
   "source": [
    "Across the board, we see very similar patterns to what we saw with the tfidf lemma matrix, with slightly elevated accuracy. Some interesting things to note:\n",
    "\n",
    "- Though embeddings had higher overall accuracy, more 2-star ratings were confused with 1-star ratings (0.38 v 0.34), and more 4-star ratings were confused with 5-star ratings(0.57 v 0.5), than with tfidf lemma matrix. \n",
    "- Emeddings did slightly worse overall with 2, 3, and 4 star ratings than the tfidf lemma matrix (0.18, 0.26, 0.32 v 0.22, 0.26, 0.35).\n",
    "- Embeddings more than made up for this by more accuractely classifying 1 and 5 star ratings better than tfidf lemma (0.82 v 0.75 and 0.87 v 0.84) resulting in higher overall accuracy, because there are so many 5 star ratings in particular."
   ]
  },
  {
   "cell_type": "markdown",
   "metadata": {
    "tags": []
   },
   "source": [
    "## Business type topic models"
   ]
  },
  {
   "cell_type": "code",
   "execution_count": null,
   "metadata": {},
   "outputs": [],
   "source": [
    "combined.columns"
   ]
  },
  {
   "cell_type": "code",
   "execution_count": null,
   "metadata": {},
   "outputs": [],
   "source": [
    "combined = combined.drop(['useful','cool','date','funny','latitude','longitude','stars_y','is_open','hours'], axis=1)\n",
    "#combined.columns"
   ]
  },
  {
   "cell_type": "code",
   "execution_count": null,
   "metadata": {},
   "outputs": [],
   "source": [
    "main_cat = []\n",
    "\n",
    "for category in combined['categories']:\n",
    "    cat = category.split(',')[0]\n",
    "    main_cat.append(cat)\n",
    "    \n",
    "combined['category'] = main_cat\n",
    "#combined.columns"
   ]
  },
  {
   "cell_type": "code",
   "execution_count": null,
   "metadata": {},
   "outputs": [],
   "source": [
    "# baseline accuracy, fraction of businesses that are restaurants\n",
    "\n",
    "baseline = len(combined[combined['category'].str.contains('Restaurants')]) / len(combined)\n",
    "print('Baseline accuracy for restaurants in the data:', baseline)"
   ]
  },
  {
   "cell_type": "code",
   "execution_count": null,
   "metadata": {},
   "outputs": [],
   "source": [
    "# binary list -- yes or no restaurant\n",
    "countrest = []\n",
    "\n",
    "for category in combined['category']:\n",
    "    if category == 'Restaurants':\n",
    "        countrest.append(1)\n",
    "    else:\n",
    "        countrest.append(0)\n",
    "\n",
    "# add binary restaurant column\n",
    "with warnings.catch_warnings():\n",
    "    warnings.simplefilter('ignore')\n",
    "    combined['restaurant'] = countrest"
   ]
  },
  {
   "cell_type": "code",
   "execution_count": null,
   "metadata": {},
   "outputs": [],
   "source": [
    "vectorizer_w = CountVectorizer( \n",
    "    input = 'content',\n",
    "    encoding = 'utf-8',\n",
    "    strip_accents = 'unicode',\n",
    "    stop_words= stoplist, \n",
    "    lowercase = True,\n",
    "    min_df = 0.01, \n",
    "    max_df = 0.5 \n",
    ")\n",
    "\n",
    "X_w = vectorizer_w.fit_transform(combined['text'])\n",
    "print(\"Feature matrix shape, all reviews:\", X_w.shape)"
   ]
  },
  {
   "cell_type": "code",
   "execution_count": null,
   "metadata": {},
   "outputs": [],
   "source": [
    "lda_w = LatentDirichletAllocation(\n",
    "    n_components=50, \n",
    "    n_jobs=-1,     \n",
    "    max_iter=10\n",
    ")\n",
    "\n",
    "lda_w.fit(X_w)"
   ]
  },
  {
   "cell_type": "code",
   "execution_count": null,
   "metadata": {},
   "outputs": [],
   "source": [
    "# doc topic matrix\n",
    "with warnings.catch_warnings():\n",
    "    warnings.simplefilter('ignore')\n",
    "    doc_topic_matrix_w = lda_w.transform(X_w)\n",
    "print(\"All reviews doc-topic matrix shape:\", doc_topic_matrix_w.shape)"
   ]
  },
  {
   "cell_type": "code",
   "execution_count": null,
   "metadata": {},
   "outputs": [],
   "source": [
    "## From lecture 20-21\n",
    "\n",
    "def print_top_words(model, feature_names, n_top_words, hide_stops=False):\n",
    "    if hide_stops:\n",
    "        from sklearn.feature_extraction.text import ENGLISH_STOP_WORDS\n",
    "\n",
    "    for topic_idx, topic in enumerate(model.components_):\n",
    "        message = f\"Topic {topic_idx: >2}: \"\n",
    "        top_words_idx = topic.argsort()\n",
    "        if not hide_stops:\n",
    "            top_words = [feature_names[i]\n",
    "                         for i in top_words_idx[:-n_top_words - 1:-1]]\n",
    "        else:\n",
    "            top_words = []\n",
    "            i = 1\n",
    "            while len(top_words) < n_top_words:\n",
    "                if feature_names[top_words_idx[-i]] not in ENGLISH_STOP_WORDS:\n",
    "                    top_words.append(feature_names[top_words_idx[-i]])\n",
    "                i += 1\n",
    "        message += \" \".join(top_words)    \n",
    "        print(message)\n",
    "    print()"
   ]
  },
  {
   "cell_type": "code",
   "execution_count": null,
   "metadata": {},
   "outputs": [],
   "source": [
    "print('50 topics from the entire dataset \\n')\n",
    "print_top_words(lda_w, vectorizer_w.get_feature_names_out(), n_top_words=10, hide_stops=False)"
   ]
  },
  {
   "cell_type": "code",
   "execution_count": null,
   "metadata": {},
   "outputs": [],
   "source": [
    "# Correlation plot -- lecture 20-21\n",
    "# Adapted from Seaborn docs\n",
    "import matplotlib.pyplot as plt\n",
    "import numpy as np\n",
    "import seaborn as sns\n",
    "from   sklearn.preprocessing import StandardScaler\n",
    "\n",
    "#sns.set_context('talk')\n",
    "corr = np.corrcoef(doc_topic_matrix_w.T)\n",
    "\n",
    "# Generate a mask for the upper triangle\n",
    "mask = np.triu(np.ones_like(corr, dtype=bool))\n",
    "\n",
    "# Set up the matplotlib figure\n",
    "f, ax = plt.subplots(figsize=(11, 9))\n",
    "\n",
    "# Generate a custom diverging colormap\n",
    "cmap = sns.diverging_palette(20, 230, as_cmap=True)\n",
    "\n",
    "# Draw the heatmap with the mask and correct aspect ratio\n",
    "sns.heatmap(\n",
    "    corr,\n",
    "    mask=mask, \n",
    "    cmap=cmap, \n",
    "    center=0,\n",
    "    square=True, \n",
    "    linewidths=.5, \n",
    "    cbar_kws={\"shrink\": .5}\n",
    ")\n",
    "plt.tight_layout()\n",
    "plt.show()"
   ]
  },
  {
   "cell_type": "markdown",
   "metadata": {},
   "source": [
    "#### The heat map above shows the correlation between each topic in the topic matrix. The fact that we used 50 topics in the model makes the graph a bit difficult to read, but there are a few \"hot spots\" of blue and red that indicate interesting correlations between two topics.\n",
    "\n",
    "#### Positive correlations\n",
    "- 32 and 43\n",
    "- 33 and 43\n",
    "- 4 and 31\n",
    "\n",
    "--- \n",
    "\n",
    "Topic  4: sandwich burger good fries like burgers really would one got\n",
    "\n",
    "Topic 31: cheese sauce steak mac bbq meat ribs onions dry sauces\n",
    "\n",
    "***Both of these topics involve meat and make us think of classic \"American\" food.***\n",
    "\n",
    "---\n",
    "\n",
    "Topic 32: service customer phone call called would time work delivery arrived\n",
    "\n",
    "Topic 43: would us told company said day called card back credit\n",
    "\n",
    "***These topics hint at calling and customer service.***\n",
    "\n",
    "---\n",
    "\n",
    "Topic 33: car back would review get reviews since another still\n",
    "\n",
    "Topic 43: would us told company said day called card back credit\n",
    "\n",
    "***These topics are somewhat of a mystery but also hint at customer service.***\n",
    "\n",
    "---\n",
    "\n",
    "#### Negative correlations \n",
    "- 17 and 48\n",
    "- 17 and 41\n",
    "- 17 and 42\n",
    "\n",
    "***Topic 17 had the most strong negative correlations based on the graph (most dark red squares in the 17 column)***\n",
    "\n",
    "---\n",
    "\n",
    "Topic 17: great good food service drinks bar atmosphere place friendly go\n",
    "\n",
    "Topic 41: said asked back like get rude time manager could one\n",
    "\n",
    "***These are opposite experiences of good vs bad customer service.***\n",
    "\n",
    "---\n",
    "\n",
    "Topic 17: great good food service drinks bar atmosphere place friendly go\n",
    "\n",
    "Topic 42: help time like care thank store questions made helped \n",
    "\n",
    "***When reading these, they both signal good experiences for customers, so this is an unexpected negative correlation. However, Topic 17 has a specific place associated with it (drinks, bar, etc.), so that may be where the negative correlation stems from.***\n",
    "\n",
    "--- \n",
    "\n",
    "Topic 17: great good food service drinks bar atmosphere place friendly go\n",
    "\n",
    "Topic 48: would could told even one thought experience make get give\n",
    "\n",
    "***The jumble of words from 48 may signify that incoherence skews the topics and therefore these are different for an inexplicable reason by humans.***"
   ]
  },
  {
   "cell_type": "markdown",
   "metadata": {},
   "source": [
    "#### Below we scale the topic matrix so that it can be passed into multiple classifiers to find the best performance."
   ]
  },
  {
   "cell_type": "code",
   "execution_count": null,
   "metadata": {},
   "outputs": [],
   "source": [
    "# make topic matrix\n",
    "X_w_topics = StandardScaler().fit_transform(doc_topic_matrix_w)"
   ]
  },
  {
   "cell_type": "code",
   "execution_count": null,
   "metadata": {},
   "outputs": [],
   "source": [
    "# Classifers to test\n",
    "classifiers = {\n",
    "    'Baseline': DummyClassifier(strategy = 'stratified'),\n",
    "    'kNN': KNeighborsClassifier(),\n",
    "    'Logit':LogisticRegression(),\n",
    "    'decisionTree': DecisionTreeClassifier(),\n",
    "    'randomForest':RandomForestClassifier()\n",
    "}\n",
    "\n",
    "with warnings.catch_warnings():\n",
    "    warnings.simplefilter('ignore')\n",
    "    scores = {} \n",
    "    for classifier in classifiers: \n",
    "        scores[classifier] = cross_validate(\n",
    "            classifiers[classifier], \n",
    "            X_w_topics,\n",
    "            countrest, \n",
    "            cv=10, \n",
    "            scoring=['accuracy','precision_weighted', 'recall_weighted', 'f1_weighted', 'f1_macro', 'f1_micro']\n",
    "        )\n",
    "    \n",
    "compare_scores(scores)"
   ]
  },
  {
   "cell_type": "markdown",
   "metadata": {},
   "source": [
    "Using the topic modeling, we can see that classifying whether a business is a restaurant or not based on the topic matrix performs relatively well, and definitely better than the baseline. The chart shows us that our highest performing classifier, Logistic Regression, has F1 = 0.75 and accuracy = 0.82.\n",
    "\n",
    "This realtively good performance makes sense because many of the topics (printed above) have specific food related words in the reviews that make it more apparent that it is a restaurant. It seems reasonable that the performance is not higher, though, because some of the topics contain generally applicable words such as \"good\", \"service\", \"like\", \"bad\", \"love\", and \"wait\", to name a few. These words skew the relevance of topics to be applicable to all businesses, making it more difficult to differentiate between a restaurant or not."
   ]
  },
  {
   "cell_type": "markdown",
   "metadata": {},
   "source": [
    "#### Below, we try to improve classification by changing the number of topics. We hypothesized that adding more topics would improve the classification because the topic model would would become more specific and possibly provide more restaurant-specific topics."
   ]
  },
  {
   "cell_type": "code",
   "execution_count": null,
   "metadata": {},
   "outputs": [],
   "source": [
    "lda_w_100 = LatentDirichletAllocation(\n",
    "    n_components=100, \n",
    "    n_jobs=-1,     \n",
    "    max_iter=10\n",
    ")\n",
    "\n",
    "lda_w_100.fit(X_w)"
   ]
  },
  {
   "cell_type": "code",
   "execution_count": null,
   "metadata": {},
   "outputs": [],
   "source": [
    "# doc topic matrix\n",
    "with warnings.catch_warnings():\n",
    "    warnings.simplefilter('ignore')\n",
    "    doc_topic_matrix_100 = lda_w_100.transform(X_w)\n",
    "print(\"Doc-topic matrix of whole dataset shape:\", doc_topic_matrix_100.shape)"
   ]
  },
  {
   "cell_type": "code",
   "execution_count": null,
   "metadata": {},
   "outputs": [],
   "source": [
    "X_w_100 = StandardScaler().fit_transform(doc_topic_matrix_100)"
   ]
  },
  {
   "cell_type": "code",
   "execution_count": null,
   "metadata": {},
   "outputs": [],
   "source": [
    "with warnings.catch_warnings():\n",
    "    warnings.simplefilter('ignore')\n",
    "    scores2 = {} # Store cross-validation results in a dictionary\n",
    "    for classifier in classifiers: \n",
    "        scores2[classifier] = cross_validate(\n",
    "            classifiers[classifier], \n",
    "            X_w_100, \n",
    "            countrest, \n",
    "            cv=10, \n",
    "            scoring=['accuracy','precision_weighted', 'recall_weighted', 'f1_weighted', 'f1_macro', 'f1_micro']\n",
    "        )\n",
    "    \n",
    "compare_scores(scores2)"
   ]
  },
  {
   "cell_type": "markdown",
   "metadata": {},
   "source": [
    "#### Adding more topics basically did not change any of the classification outputs. We also tried with 10 and 500 topics (not shown), and there was still no change. This was unexpected because we thought more topics would provide more restaurant-specific information. These results probably reflect the number of reviews that are general (\"good\", \"service\", \"bad\", etc.). "
   ]
  },
  {
   "cell_type": "markdown",
   "metadata": {},
   "source": [
    "#### From here, we were curious about the topic model for only restaurants. Would the topcis be more restaurant specific?\n",
    "\n",
    "We decided to narrow down the dataset to just restaurants and then classify into different types of restaurants with a topic model of the new restaurant dataset. We hypothesized that topics of the reviews of only restaurants would include cuisine-specific words. Based on the prevalence of these topics in different reviews, the classifier would perform well for deciding if a review was for a certain type of restaurant or not."
   ]
  },
  {
   "cell_type": "code",
   "execution_count": null,
   "metadata": {},
   "outputs": [],
   "source": [
    "restaurant_df = pd.DataFrame(combined[combined['category'].str.contains('Restaurants')])\n",
    "restaurant_df.head()"
   ]
  },
  {
   "cell_type": "code",
   "execution_count": null,
   "metadata": {},
   "outputs": [],
   "source": [
    "# use this to get an idea of the categories we'll make\n",
    "restaurant_df['categories'].value_counts()[0:10]"
   ]
  },
  {
   "cell_type": "markdown",
   "metadata": {
    "tags": []
   },
   "source": [
    "#### The list above shows the top \"sub-categories\" amongst the restaurant reviews. We will use this to inform our top five cuisine types that we will perform classification on using topic modeling of the restaurant dataset. \n",
    "\n",
    "#### Based on the list, our multiclass classification gold labels will be Mexican (1), Pizza (2), Chinese (3), Italian (4), American (5, combining New and Traditional), and other (6). "
   ]
  },
  {
   "cell_type": "code",
   "execution_count": null,
   "metadata": {},
   "outputs": [],
   "source": [
    "# make column with cuisine\n",
    "cuisine = []\n",
    "\n",
    "for category in restaurant_df['categories']:\n",
    "    cat = category.split(',')\n",
    "    if (len(cat) > 1):\n",
    "        cat = category.split(',')[1]\n",
    "        cat = cat[1:]\n",
    "        cuisine.append(cat)\n",
    "    else:\n",
    "        cuisine.append('N/A')\n",
    "\n",
    "with warnings.catch_warnings():\n",
    "    warnings.simplefilter('ignore')\n",
    "    restaurant_df['cuisine'] = cuisine\n",
    "\n",
    "#restaurant_df.head()"
   ]
  },
  {
   "cell_type": "code",
   "execution_count": null,
   "metadata": {},
   "outputs": [],
   "source": [
    "# add numbers associated with each cuisine to dataframe\n",
    "y_cuisine = []\n",
    "\n",
    "for cuisine in restaurant_df['cuisine']:\n",
    "    if cuisine == 'Mexican':\n",
    "        y_cuisine.append(1)\n",
    "    elif cuisine == 'Pizza':\n",
    "        y_cuisine.append(2)\n",
    "    elif cuisine == 'Chinese':\n",
    "        y_cuisine.append(3)\n",
    "    elif cuisine == 'Italian':\n",
    "        y_cuisine.append(4)\n",
    "    elif cuisine == 'American (New)' or cuisine == 'American (Traditional)':\n",
    "        y_cuisine.append(5)\n",
    "    else:\n",
    "        y_cuisine.append(6)\n",
    "        \n",
    "with warnings.catch_warnings():\n",
    "    warnings.simplefilter('ignore')\n",
    "    restaurant_df['y_cuisine'] = y_cuisine\n",
    "    \n",
    "#restaurant_df.head(10)"
   ]
  },
  {
   "cell_type": "code",
   "execution_count": null,
   "metadata": {},
   "outputs": [],
   "source": [
    "vectorizer_r = CountVectorizer( \n",
    "    input = 'content',\n",
    "    encoding = 'utf-8',\n",
    "    strip_accents = 'unicode',\n",
    "    stop_words= stoplist, \n",
    "    lowercase = True,\n",
    "    min_df = 0.01, \n",
    "    max_df = 0.5 \n",
    ")\n",
    "\n",
    "X_r = vectorizer_r.fit_transform(restaurant_df['text'])\n",
    "print(\"Feature matrix shape, restaurant reviews:\", X_r.shape)"
   ]
  },
  {
   "cell_type": "code",
   "execution_count": null,
   "metadata": {},
   "outputs": [],
   "source": [
    "lda_r = LatentDirichletAllocation(\n",
    "    n_components=50, \n",
    "    n_jobs=-1,     \n",
    "    max_iter=10\n",
    ")\n",
    "\n",
    "lda_r.fit(X_r)"
   ]
  },
  {
   "cell_type": "code",
   "execution_count": null,
   "metadata": {},
   "outputs": [],
   "source": [
    "# doc topic matrix\n",
    "with warnings.catch_warnings():\n",
    "    warnings.simplefilter('ignore')\n",
    "    doc_topic_matrix = lda_r.transform(X_r)\n",
    "print(\"Restaurant reviews doc-topic matrix shape:\", doc_topic_matrix.shape)"
   ]
  },
  {
   "cell_type": "code",
   "execution_count": null,
   "metadata": {},
   "outputs": [],
   "source": [
    "print('50 topics from the entire dataset \\n')\n",
    "print_top_words(lda_r, vectorizer_r.get_feature_names_out(), n_top_words=10, hide_stops=False)"
   ]
  },
  {
   "cell_type": "code",
   "execution_count": null,
   "metadata": {
    "tags": []
   },
   "outputs": [],
   "source": [
    "with warnings.catch_warnings():\n",
    "    warnings.simplefilter('ignore')\n",
    "    scores3 = {}\n",
    "    for classifier in classifiers: \n",
    "        scores3[classifier] = cross_validate(\n",
    "            classifiers[classifier],\n",
    "            X_topics, \n",
    "            y_cuisine,\n",
    "            cv=10, \n",
    "            scoring=['accuracy','precision_weighted', 'recall_weighted', 'f1_weighted', 'f1_macro', 'f1_micro']\n",
    "        )\n",
    "        \n",
    "compare_scores(scores3)"
   ]
  },
  {
   "cell_type": "markdown",
   "metadata": {},
   "source": [
    "#### It makes sense that this subset performed worse than the \"restaurant vs other\" classifier because adding more categories makes prediction more difficult. Additionally, given what we know about the general topics of many reviews and even the overlap of different food-specific words (e.g., \"sauce\" could apply to Pizza and Mexican), it is actually surprising that the classifier did so well.\n",
    "\n",
    "#### The chart above shows the classification performance for four different classifiers compared to the baseline multiclass classification. Since Random Forest performed the best, we will change some parameters to try and improve the performance."
   ]
  },
  {
   "cell_type": "code",
   "execution_count": null,
   "metadata": {},
   "outputs": [],
   "source": [
    "## trying to improve the random forest\n",
    "RFfeatures = {\n",
    "    'feature_None':RandomForestClassifier(max_features=None),\n",
    "    'feature_50':RandomForestClassifier(max_features=50),\n",
    "    'feature_10':RandomForestClassifier(max_features=10),\n",
    "    'feature_5':RandomForestClassifier(max_features=10),\n",
    "    'feature_2':RandomForestClassifier(max_features=2)\n",
    "}\n",
    "\n",
    "with warnings.catch_warnings():\n",
    "    warnings.simplefilter('ignore')\n",
    "    RFscores = {} \n",
    "    for classifier in RFfeatures:\n",
    "        RFscores[classifier] = cross_validate( \n",
    "            RFfeatures[classifier], \n",
    "            X_topics, \n",
    "            y_cuisine, \n",
    "            cv=10, \n",
    "            scoring=['accuracy','precision_weighted', 'recall_weighted', 'f1_weighted', 'f1_macro', 'f1_micro']\n",
    "        )\n",
    "\n",
    "compare_scores(RFscores)"
   ]
  },
  {
   "cell_type": "markdown",
   "metadata": {},
   "source": [
    "#### Here we see that the Random Forest Classifier with 5 max features, meaning the classifier can only try up to five features per node (i.e., the number of options to consider for classification).\n",
    "\n",
    "#### From a baseline F1 of 0.51 to our best F1 of 0.60, a 0.10 increase is not bad! Additionally, the accuracy increased by almost 0.20.\n",
    "\n",
    "#### Our final test is to see how classifiers perform on a binary ***within*** the restaurant subset. Can we determine if a restaurant is Mexican or not based on topic modeling?"
   ]
  },
  {
   "cell_type": "code",
   "execution_count": null,
   "metadata": {},
   "outputs": [],
   "source": [
    "# make binary columnn for Mexican gold labels\n",
    "y_mex = []\n",
    "\n",
    "for cuisine in restaurant_df['cuisine']:\n",
    "    if cuisine == 'Mexican':\n",
    "        y_mex.append(1)\n",
    "    else:\n",
    "        y_mex.append(0)\n",
    "        \n",
    "with warnings.catch_warnings():\n",
    "    warnings.simplefilter('ignore')\n",
    "    restaurant_df['mexican'] = y_mex\n",
    "    \n",
    "#restaurant_df.head()"
   ]
  },
  {
   "cell_type": "code",
   "execution_count": null,
   "metadata": {},
   "outputs": [],
   "source": [
    "with warnings.catch_warnings():\n",
    "    warnings.simplefilter('ignore')\n",
    "    scores4 = {}\n",
    "    for classifier in classifiers: \n",
    "        scores4[classifier] = cross_validate(\n",
    "            classifiers[classifier],\n",
    "            X_topics, \n",
    "            y_mex,\n",
    "            cv=10, \n",
    "            scoring=['accuracy','precision_weighted', 'recall_weighted', 'f1_weighted', 'f1_macro', 'f1_micro']\n",
    "        )\n",
    "        \n",
    "compare_scores(scores4)"
   ]
  },
  {
   "cell_type": "markdown",
   "metadata": {},
   "source": [
    "#### Classifying cuisines as a binary performs very well! \n",
    "\n",
    "This makes sense because in the document topic matrix for only restaurants, the weight that cuisine-specific topics have (Topic 29: taco good prices bit really large got order restaurant big) makes the cuisine-specific reviews stand out to the classifier. While it is gratifying to have a classifier perform so well, we recognize that this is not the most challenging task and does not provide much new insight."
   ]
  },
  {
   "cell_type": "markdown",
   "metadata": {},
   "source": [
    "# 3. Results Summary\n",
    "\n",
    "In terms of our first two questions regarding what algorithms and feature matrices were most effective for using review text to predict star ratings, we found that Logistic Regression was the most effective algorithm across all feature matrices, with Random Forest in second. Decision Tree and K Nearest Neighbors were both further behind. Additionally we found that a tfidf lemma feature matrix resulted in much better accuracy than an average review sentiment feature matrix. As discussed above, many reviews lacked enough sentiment across each emotion to inform the classifiers enough, resulting in a strong bias towards 5-star reviews, the most common review in the dataset. Finally, we tried to fix that issue by using word embeddings. This resulted in the highest accuracy yet, around 64%, or a 34% lift over baseline accuracy. This was because the word embeddings included a lot of sensitivity and information per word, making up for the shortcomings of the more simple sentiment analysis.\n",
    "\n",
    "For algorithms and topic modeling, we found that Logistic Regression was the most effective for predicting whether a review was for a restaurant or not when applied to the entire dataset. When moving into the restaurant subset of the data, we found that the Random Forest algorithm with max_features = 5 performed the best for our multiclass question of cuisine prediction (Mexican, Pizza, Chinese, Italian, American, Other). Finally, we explored the performance of a binary cuisine question within the restaurant subset (Mexican vs Other) based on topic modeling and found this to be overall the most successful, which makes sense because cuisine-specific words would improve the classification for one specific type of cuisine (as opposed to choosing one of six, as with the multiclass question)."
   ]
  },
  {
   "cell_type": "markdown",
   "metadata": {
    "tags": []
   },
   "source": [
    "#### Topic Model Final Improvement: Restaurant vs Not Restaurant review in entire dataset"
   ]
  },
  {
   "cell_type": "code",
   "execution_count": null,
   "metadata": {},
   "outputs": [],
   "source": [
    "# Classifers to test\n",
    "classifiers1 = {\n",
    "    'Baseline': DummyClassifier(strategy = 'stratified'),\n",
    "    'Logit':LogisticRegression()\n",
    "}\n",
    "\n",
    "with warnings.catch_warnings():\n",
    "    warnings.simplefilter('ignore')\n",
    "    scores11 = {} \n",
    "    for classifier in classifiers1: \n",
    "        scores11[classifier] = cross_validate(\n",
    "            classifiers1[classifier], \n",
    "            X_w_topics,\n",
    "            countrest, \n",
    "            cv=10, \n",
    "            scoring=['accuracy','precision_weighted', 'recall_weighted', 'f1_weighted']\n",
    "        )\n",
    "    \n",
    "compare_scores(scores11)"
   ]
  },
  {
   "cell_type": "markdown",
   "metadata": {
    "tags": []
   },
   "source": [
    "#### Topic Model Final Improvement: Multiclass cuisine in restaurant subset"
   ]
  },
  {
   "cell_type": "code",
   "execution_count": null,
   "metadata": {},
   "outputs": [],
   "source": [
    "# Classifers to test\n",
    "classifiers2 = {\n",
    "    'Baseline': DummyClassifier(strategy = 'stratified'),\n",
    "    'randomForest': RandomForestClassifier(max_features=5)\n",
    "}\n",
    "\n",
    "with warnings.catch_warnings():\n",
    "    warnings.simplefilter('ignore')\n",
    "    scores12 = {} \n",
    "    for classifier in classifiers2: \n",
    "        scores12[classifier] = cross_validate(\n",
    "            classifiers2[classifier], \n",
    "            X_topics,\n",
    "            y_cuisine, \n",
    "            cv=10, \n",
    "            scoring=['accuracy','precision_weighted', 'recall_weighted', 'f1_weighted']\n",
    "        )\n",
    "    \n",
    "compare_scores(scores12)"
   ]
  },
  {
   "cell_type": "markdown",
   "metadata": {},
   "source": [
    "#### Topic Model Final Improvement: Binary cuisine (Mexican vs Not) in restaurant subset"
   ]
  },
  {
   "cell_type": "code",
   "execution_count": null,
   "metadata": {},
   "outputs": [],
   "source": [
    "# Classifers to test\n",
    "classifiers3 = {\n",
    "    'Baseline': DummyClassifier(strategy = 'stratified'),\n",
    "    'randomForest': RandomForestClassifier()\n",
    "}\n",
    "\n",
    "with warnings.catch_warnings():\n",
    "    warnings.simplefilter('ignore')\n",
    "    scores13 = {} \n",
    "    for classifier in classifiers3: \n",
    "        scores13[classifier] = cross_validate(\n",
    "            classifiers3[classifier], \n",
    "            X_topics,\n",
    "            y_mex, \n",
    "            cv=10, \n",
    "            scoring=['accuracy','precision_weighted', 'recall_weighted', 'f1_weighted']\n",
    "        )\n",
    "    \n",
    "compare_scores(scores13)"
   ]
  },
  {
   "cell_type": "markdown",
   "metadata": {},
   "source": [
    "# 4. Discussion & Conclusion\n",
    "\n",
    "In conclusion, both tfidf lemma and sentiment scored feature matrices resulted in varying lift above baseline accuracy. Sentiment scoring however was not particularly effective, and was limited by a lack of some emotions detected in many reviews. Perhaps a more finely tuned approach such as word embeddings would better capture the meaning and emotion of each sentence, and result in higher accuracy; the limitation to ten emotions could be part of the reason why sentiment scoring was not working well. We overcame this limitation by using word embeddings, to achieve our highest ever accuracy. That being said, word embeddings are not without limitations. They average the whole sentence, which may dampen or overrepresent some strong emotions in the dataset. Using features that include more information on the actual range of scores along each reviews 300 component averaged vector. This could improve accuracy. Another general limitation had to do with the dataset itself. There were many more 5-star reviews than any other type of review, which may have biased the dataset. While balancing classes might have reduced bias, it might have also reduced accuracy scores; in some ways the bias of the dataset was useful for the classifiers, because it reflected a real tendency in the data that then became built into the classifiers.\n",
    "\n",
    "Topic modeling was a successful way to classify different aspects of the dataset, including whether or not a review was for a restaurant, what type of cuisine a restaurant was, and if a restaurant was Mexican or not. Using topic modeling made sense because we hypothesized that the topics would reveal specific information about these various questions based on the specific words in each topic.\n",
    "\n",
    "There were some limitations with the topic modeling because of the setup of the original data. The original \"categories\" column was an English list (not a list type) that separated each category of the business with a comma. Additionally, the list for each business was not in any priority otder, so, for example, some businesses had \"Restaurants\" listed first, while other had it listed third or fourth. Retrieving this information required some string maneuvering which led us to the decision that we would only deal with the first and second listed categories of each review. This means we probably lost some reviews that could have been counted as restaurants and then further within the cuisines we chose to analyze. Another limitation was the repetition of words that could have been lemmatized. We also could have updated our list of stopwords specifically for the restaurant reviews to get more targeted and meaningful results, because we saw the repetition of many general words such as \"like\", \"good\", \"bad\", etc.\n",
    "\n",
    "Overall, this was a fun exploration of Yelp reviews. This project was enjoyable because we had the freedom to apply what we learned on longer novels and literature to shorter, modern text. This project showed us how useful the tools from this class can be for current data sources, as well as historical ones."
   ]
  },
  {
   "cell_type": "code",
   "execution_count": null,
   "metadata": {},
   "outputs": [],
   "source": []
  }
 ],
 "metadata": {
  "kernelspec": {
   "display_name": "Python 3",
   "language": "python",
   "name": "python3"
  },
  "language_info": {
   "codemirror_mode": {
    "name": "ipython",
    "version": 3
   },
   "file_extension": ".py",
   "mimetype": "text/x-python",
   "name": "python",
   "nbconvert_exporter": "python",
   "pygments_lexer": "ipython3",
   "version": "3.8.3"
  }
 },
 "nbformat": 4,
 "nbformat_minor": 5
}
